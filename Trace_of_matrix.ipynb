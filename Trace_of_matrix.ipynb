{
 "cells": [
  {
   "cell_type": "code",
   "execution_count": 2,
   "metadata": {},
   "outputs": [
    {
     "name": "stdout",
     "output_type": "stream",
     "text": [
      "\n",
      "*******************How to Calculate Trace of a Matrix*******************\n",
      "\n",
      "Calculate the tracre of the matrix:  15\n"
     ]
    }
   ],
   "source": [
    "# How to Calculate Trace of a Matrix\n",
    "def trace_of_matrix():\n",
    "    print()\n",
    "    print(format('How to Calculate Trace of a Matrix', '*^72'))\n",
    "    # Load library\n",
    "    import numpy as np\n",
    "    # Create matrix\n",
    "    matrix = np.array([[1, 2, 3],\n",
    "                       [4, 5, 6],\n",
    "                       [7, 8, 9],\n",
    "                       [10, 11, 12]])\n",
    "    # Calculate the tracre of the matrix\n",
    "    print()\n",
    "    print('Calculate the tracre of the matrix: ',\n",
    "           matrix.diagonal().sum())\n",
    "trace_of_matrix()"
   ]
  },
  {
   "cell_type": "code",
   "execution_count": null,
   "metadata": {},
   "outputs": [],
   "source": []
  }
 ],
 "metadata": {
  "kernelspec": {
   "display_name": "Python 3",
   "language": "python",
   "name": "python3"
  },
  "language_info": {
   "codemirror_mode": {
    "name": "ipython",
    "version": 3
   },
   "file_extension": ".py",
   "mimetype": "text/x-python",
   "name": "python",
   "nbconvert_exporter": "python",
   "pygments_lexer": "ipython3",
   "version": "3.7.3"
  }
 },
 "nbformat": 4,
 "nbformat_minor": 2
}
