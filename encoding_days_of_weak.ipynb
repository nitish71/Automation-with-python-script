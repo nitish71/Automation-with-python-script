{
 "cells": [
  {
   "cell_type": "code",
   "execution_count": 1,
   "metadata": {},
   "outputs": [
    {
     "name": "stdout",
     "output_type": "stream",
     "text": [
      "\n",
      "**********************How to encode Days of a week in Python**********************\n",
      "\n",
      "0   2018-11-30\n",
      "1   2018-12-31\n",
      "2   2019-01-31\n",
      "dtype: datetime64[ns]\n",
      "\n",
      "0      Friday\n",
      "1      Monday\n",
      "2    Thursday\n",
      "dtype: object\n"
     ]
    }
   ],
   "source": [
    "## How to encode Days of a week in Python \n",
    "def encode_days_of_weak():\n",
    "    print()\n",
    "    print(format('How to encode Days of a week in Python',\n",
    "                 '*^82'))\n",
    "\n",
    "    import warnings\n",
    "    warnings.filterwarnings(\"ignore\")\n",
    "\n",
    "    # Load library\n",
    "    import pandas as pd\n",
    "\n",
    "    # Create dates\n",
    "    dates = pd.Series(pd.date_range('11/9/2018', periods=3, freq='M'))\n",
    "\n",
    "    # View data\n",
    "    print()\n",
    "    print(dates)\n",
    "\n",
    "    # Show days of the week\n",
    "    print()\n",
    "    print(dates.dt.weekday_name)\n",
    "\n",
    "encode_days_of_weak()"
   ]
  },
  {
   "cell_type": "code",
   "execution_count": null,
   "metadata": {},
   "outputs": [],
   "source": []
  }
 ],
 "metadata": {
  "kernelspec": {
   "display_name": "Python 3",
   "language": "python",
   "name": "python3"
  },
  "language_info": {
   "codemirror_mode": {
    "name": "ipython",
    "version": 3
   },
   "file_extension": ".py",
   "mimetype": "text/x-python",
   "name": "python",
   "nbconvert_exporter": "python",
   "pygments_lexer": "ipython3",
   "version": "3.7.3"
  }
 },
 "nbformat": 4,
 "nbformat_minor": 2
}
