{
 "cells": [
  {
   "cell_type": "code",
   "execution_count": 1,
   "metadata": {},
   "outputs": [
    {
     "name": "stdout",
     "output_type": "stream",
     "text": [
      "\n",
      "**********************How to create RANDOM Numbers in Python**********************\n",
      "\n",
      "-0.615654023358914\n",
      "\n",
      "[ 1.47753406 -0.36463269 -0.91421997  0.54538819  0.49037704 -0.01170044\n",
      "  1.53224607  1.10385545 -0.67934467 -0.24789266 -0.80724701 -0.06464506\n",
      " -0.20188005  0.3021616 ]\n",
      "\n",
      "[0.73426773 0.92927361 0.02488765 0.60338215 0.48182875 0.9217233\n",
      " 0.33216941 0.45345185 0.64141351 0.79180762 0.84470682 0.8971298\n",
      " 0.68662366 0.72821569]\n",
      "\n",
      "[79 47 65 42 61 49 44  9 25 42 51 10 79 86]\n"
     ]
    }
   ],
   "source": [
    "# How to create RANDOM Numbers in Python\n",
    "def random_nuber_generation():\n",
    "    print()\n",
    "    print(format('How to create RANDOM Numbers in Python','*^82'))\n",
    "\n",
    "    import warnings\n",
    "    warnings.filterwarnings(\"ignore\")\n",
    "\n",
    "    # Load Libraries\n",
    "    import numpy as np\n",
    "\n",
    "    # Generate A Random Number From The Normal Distribution\n",
    "    print(); print(np.random.normal())\n",
    "\n",
    "    # Generate Four Random Numbers From The Normal Distribution\n",
    "    print(); print(np.random.normal(size=14))\n",
    "\n",
    "    # Generate Four Random Numbers From The Uniform Distribution\n",
    "    print(); print(np.random.uniform(size=14))\n",
    "\n",
    "    # Generate Four Random Integers Between 1 and 100\n",
    "    print(); print(np.random.randint(low=1, high=100, size=14))\n",
    "\n",
    "random_nuber_generation()"
   ]
  },
  {
   "cell_type": "code",
   "execution_count": null,
   "metadata": {},
   "outputs": [],
   "source": []
  }
 ],
 "metadata": {
  "kernelspec": {
   "display_name": "Python 3",
   "language": "python",
   "name": "python3"
  },
  "language_info": {
   "codemirror_mode": {
    "name": "ipython",
    "version": 3
   },
   "file_extension": ".py",
   "mimetype": "text/x-python",
   "name": "python",
   "nbconvert_exporter": "python",
   "pygments_lexer": "ipython3",
   "version": "3.7.3"
  }
 },
 "nbformat": 4,
 "nbformat_minor": 2
}
