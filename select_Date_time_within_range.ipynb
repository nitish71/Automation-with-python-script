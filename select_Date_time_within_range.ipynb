{
 "cells": [
  {
   "cell_type": "code",
   "execution_count": 1,
   "metadata": {},
   "outputs": [
    {
     "name": "stdout",
     "output_type": "stream",
     "text": [
      "\n",
      "*****************How to select DateTime within a range in Python******************\n",
      "\n",
      "                                   date\n",
      "date                                   \n",
      "2002-01-01 01:00:00 2002-01-01 01:00:00\n",
      "2002-01-01 02:00:00 2002-01-01 02:00:00\n",
      "2002-01-01 03:00:00 2002-01-01 03:00:00\n",
      "2002-01-01 04:00:00 2002-01-01 04:00:00\n",
      "2002-01-01 05:00:00 2002-01-01 05:00:00\n",
      "2002-01-01 06:00:00 2002-01-01 06:00:00\n",
      "2002-01-01 07:00:00 2002-01-01 07:00:00\n"
     ]
    }
   ],
   "source": [
    "## How to select DateTime within a range in Python \n",
    "def select_datetime_in_range():\n",
    "    print()\n",
    "    print(format('How to select DateTime within a range in Python','*^82'))\n",
    "    import warnings\n",
    "    warnings.filterwarnings(\"ignore\")\n",
    "\n",
    "    # Load library\n",
    "    import pandas as pd\n",
    "    # Create data frame\n",
    "    df = pd.DataFrame()\n",
    "    # Create datetimes\n",
    "    df['date'] = pd.date_range('15/12/1999', periods=100000, freq='H')\n",
    "    # Set index\n",
    "    df = df.set_index(df['date'])\n",
    "    # Select observations between two datetimes\n",
    "    print(); print(df.loc['2002-1-1 01:00:00':'2002-1-1 07:00:00'])\n",
    "select_datetime_in_range()"
   ]
  },
  {
   "cell_type": "code",
   "execution_count": null,
   "metadata": {},
   "outputs": [],
   "source": []
  }
 ],
 "metadata": {
  "kernelspec": {
   "display_name": "Python 3",
   "language": "python",
   "name": "python3"
  },
  "language_info": {
   "codemirror_mode": {
    "name": "ipython",
    "version": 3
   },
   "file_extension": ".py",
   "mimetype": "text/x-python",
   "name": "python",
   "nbconvert_exporter": "python",
   "pygments_lexer": "ipython3",
   "version": "3.7.3"
  }
 },
 "nbformat": 4,
 "nbformat_minor": 2
}
