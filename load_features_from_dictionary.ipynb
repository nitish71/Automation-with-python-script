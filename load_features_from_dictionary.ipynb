{
 "cells": [
  {
   "cell_type": "code",
   "execution_count": 1,
   "metadata": {},
   "outputs": [
    {
     "name": "stdout",
     "output_type": "stream",
     "text": [
      "\n",
      "************How to load features from a Dictionary in python************\n",
      "\n",
      "Feature Matrix: \n",
      "[[33.  1.  0.  0.  0.  0.  0.  0.  1.]\n",
      " [42.  0.  0.  1.  0.  0.  1.  0.  0.]\n",
      " [37.  0.  0.  0.  1.  1.  0.  0.  0.]\n",
      " [32.  0.  1.  0.  0.  0.  0.  1.  0.]]\n",
      "\n",
      "Feature Name: \n",
      "['age', 'dept=Analytics', 'dept=Business', 'dept=Finance', 'dept=Marketing', 'name=Baxter Morth', 'name=Lyndon Jones', 'name=Mathew Scott', 'name=Steve Miller']\n"
     ]
    }
   ],
   "source": [
    "## How to load features from a Dictionary in python\n",
    "def load_features():\n",
    "    print()\n",
    "    print(format('How to load features from a Dictionary in python', '*^72'))\n",
    "\n",
    "    # Load library\n",
    "    from sklearn.feature_extraction import DictVectorizer\n",
    "\n",
    "    # Create A Dictionary\n",
    "    employee = [{'name': 'Steve Miller', 'age': 33., 'dept': 'Analytics'},\n",
    "                {'name': 'Lyndon Jones', 'age': 42., 'dept': 'Finance'},\n",
    "                {'name': 'Baxter Morth', 'age': 37., 'dept': 'Marketing'},\n",
    "                {'name': 'Mathew Scott', 'age': 32., 'dept': 'Business'}]\n",
    "\n",
    "    # Convert Dictionary To Feature Matrix\n",
    "    vec = DictVectorizer()\n",
    "\n",
    "    # Fit then transform the dictionary with vec, then output an array\n",
    "    print();\n",
    "    print(\"Feature Matrix: \"); print(vec.fit_transform(employee).toarray())\n",
    "\n",
    "    # View Feature Names\n",
    "    print()\n",
    "    print(\"Feature Name: \"); print(vec.get_feature_names())\n",
    "\n",
    "load_features()"
   ]
  },
  {
   "cell_type": "code",
   "execution_count": null,
   "metadata": {},
   "outputs": [],
   "source": []
  }
 ],
 "metadata": {
  "kernelspec": {
   "display_name": "Python 3",
   "language": "python",
   "name": "python3"
  },
  "language_info": {
   "codemirror_mode": {
    "name": "ipython",
    "version": 3
   },
   "file_extension": ".py",
   "mimetype": "text/x-python",
   "name": "python",
   "nbconvert_exporter": "python",
   "pygments_lexer": "ipython3",
   "version": "3.7.3"
  }
 },
 "nbformat": 4,
 "nbformat_minor": 2
}
