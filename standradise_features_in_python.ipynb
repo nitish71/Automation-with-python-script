{
 "cells": [
  {
   "cell_type": "code",
   "execution_count": 1,
   "metadata": {},
   "outputs": [
    {
     "name": "stdout",
     "output_type": "stream",
     "text": [
      "\n",
      "**********************How to standardise features in Python***********************\n",
      "\n",
      "[[-500.5]\n",
      " [-100.1]\n",
      " [   0. ]\n",
      " [ 100.1]\n",
      " [ 900.9]]\n",
      "\n",
      "[[-1.26687088]\n",
      " [-0.39316683]\n",
      " [-0.17474081]\n",
      " [ 0.0436852 ]\n",
      " [ 1.79109332]]\n"
     ]
    }
   ],
   "source": [
    "## How to standardise features in Python \n",
    "def features_standardisation():\n",
    "    print()\n",
    "    print(format('How to standardise features in Python', '*^82'))\n",
    "    import warnings\n",
    "    warnings.filterwarnings(\"ignore\")\n",
    "\n",
    "    # Load libraries\n",
    "    from sklearn import preprocessing\n",
    "    import numpy as np\n",
    "\n",
    "    # Create feature\n",
    "    x = np.array([[-500.5],\n",
    "                  [-100.1],\n",
    "                  [0],\n",
    "                  [100.1],\n",
    "                  [900.9]])\n",
    "\n",
    "    # Standardize Feature\n",
    "    # Create scaler\n",
    "    scaler = preprocessing.StandardScaler()\n",
    "\n",
    "    # Transform the feature\n",
    "    standardized_x = scaler.fit_transform(x)\n",
    "\n",
    "    # Show feature\n",
    "    print(); print(x)\n",
    "    print(); print(standardized_x)\n",
    "\n",
    "features_standardisation()"
   ]
  },
  {
   "cell_type": "code",
   "execution_count": null,
   "metadata": {},
   "outputs": [],
   "source": []
  }
 ],
 "metadata": {
  "kernelspec": {
   "display_name": "Python 3",
   "language": "python",
   "name": "python3"
  },
  "language_info": {
   "codemirror_mode": {
    "name": "ipython",
    "version": 3
   },
   "file_extension": ".py",
   "mimetype": "text/x-python",
   "name": "python",
   "nbconvert_exporter": "python",
   "pygments_lexer": "ipython3",
   "version": "3.7.3"
  }
 },
 "nbformat": 4,
 "nbformat_minor": 2
}
