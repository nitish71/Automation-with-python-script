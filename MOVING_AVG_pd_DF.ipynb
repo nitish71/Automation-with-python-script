{
 "cells": [
  {
   "cell_type": "code",
   "execution_count": 1,
   "metadata": {},
   "outputs": [
    {
     "name": "stdout",
     "output_type": "stream",
     "text": [
      "\n",
      "****************How to calculate MOVING AVG in a Pandas DataFrame*****************\n",
      "\n",
      "      regiment company      name  preTestScore  postTestScore\n",
      "0   Nighthawks     1st    Miller             4             25\n",
      "1   Nighthawks     1st  Jacobson            24             94\n",
      "2   Nighthawks     2nd      Bali            31             57\n",
      "3   Nighthawks     2nd    Milner             2             62\n",
      "4     Dragoons     1st     Cooze             3             70\n",
      "5     Dragoons     1st     Jacon             4             25\n",
      "6     Dragoons     2nd    Ryaner            24             94\n",
      "7     Dragoons     2nd      Sone            31             57\n",
      "8       Scouts     1st     Sloan             2             62\n",
      "9       Scouts     1st     Piger             3             70\n",
      "10      Scouts     2nd     Riani             2             62\n",
      "11      Scouts     2nd       Ali             3             70\n",
      "\n",
      "    preTestScore  postTestScore\n",
      "0            NaN            NaN\n",
      "1           14.0           59.5\n",
      "2           27.5           75.5\n",
      "3           16.5           59.5\n",
      "4            2.5           66.0\n",
      "5            3.5           47.5\n",
      "6           14.0           59.5\n",
      "7           27.5           75.5\n",
      "8           16.5           59.5\n",
      "9            2.5           66.0\n",
      "10           2.5           66.0\n",
      "11           2.5           66.0\n",
      "\n",
      "    preTestScore  postTestScore\n",
      "0            0.0            0.0\n",
      "1           14.0           59.5\n",
      "2           27.5           75.5\n",
      "3           16.5           59.5\n",
      "4            2.5           66.0\n",
      "5            3.5           47.5\n",
      "6           14.0           59.5\n",
      "7           27.5           75.5\n",
      "8           16.5           59.5\n",
      "9            2.5           66.0\n",
      "10           2.5           66.0\n",
      "11           2.5           66.0\n"
     ]
    }
   ],
   "source": [
    "## How to calculate MOVING AVG in a Pandas DataFrame\n",
    "def MOVING_AVG_pd_DF():\n",
    "    print()\n",
    "    print(format('How to calculate MOVING AVG in a Pandas DataFrame','*^82'))\n",
    "    import warnings\n",
    "    warnings.filterwarnings(\"ignore\")\n",
    "    # load libraries\n",
    "    import pandas as pd\n",
    "    raw_data = {'regiment': ['Nighthawks', 'Nighthawks', 'Nighthawks', 'Nighthawks',\n",
    "                             'Dragoons', 'Dragoons', 'Dragoons', 'Dragoons', 'Scouts',\n",
    "                             'Scouts', 'Scouts', 'Scouts'],\n",
    "                'company': ['1st', '1st', '2nd', '2nd', '1st', '1st', '2nd',\n",
    "                            '2nd','1st', '1st', '2nd', '2nd'],\n",
    "                'name': ['Miller', 'Jacobson', 'Bali', 'Milner', 'Cooze', 'Jacon',\n",
    "                         'Ryaner', 'Sone', 'Sloan', 'Piger', 'Riani', 'Ali'],\n",
    "                'preTestScore': [4, 24, 31, 2, 3, 4, 24, 31, 2, 3, 2, 3],\n",
    "                'postTestScore': [25, 94, 57, 62, 70, 25, 94, 57, 62, 70, 62, 70]}\n",
    "    df = pd.DataFrame(raw_data, columns = ['regiment', 'company', 'name',\n",
    "                                           'preTestScore', 'postTestScore'])\n",
    "    print(); print(df)\n",
    "\n",
    "    # Calculate Rolling Moving Average with Window of 2\n",
    "    df1 = df[['preTestScore','postTestScore']].rolling(window=2).mean()\n",
    "    print(); print(df1)\n",
    "\n",
    "    df2 = df1.fillna(0)\n",
    "    print(); print(df2)\n",
    "\n",
    "MOVING_AVG_pd_DF()"
   ]
  },
  {
   "cell_type": "code",
   "execution_count": null,
   "metadata": {},
   "outputs": [],
   "source": []
  }
 ],
 "metadata": {
  "kernelspec": {
   "display_name": "Python 3",
   "language": "python",
   "name": "python3"
  },
  "language_info": {
   "codemirror_mode": {
    "name": "ipython",
    "version": 3
   },
   "file_extension": ".py",
   "mimetype": "text/x-python",
   "name": "python",
   "nbconvert_exporter": "python",
   "pygments_lexer": "ipython3",
   "version": "3.7.3"
  }
 },
 "nbformat": 4,
 "nbformat_minor": 2
}
