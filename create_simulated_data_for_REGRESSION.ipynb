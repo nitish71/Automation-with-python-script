{
 "cells": [
  {
   "cell_type": "code",
   "execution_count": 1,
   "metadata": {},
   "outputs": [
    {
     "name": "stdout",
     "output_type": "stream",
     "text": [
      "\n",
      "**************How to Create simulated data for regression in Python***************\n",
      "\n",
      "   Feature 1  Feature 2  Feature 3\n",
      "0   1.686415   0.207304  -0.275892\n",
      "1  -0.189419  -1.504951  -2.788903\n",
      "2  -0.753648  -1.150832   1.305741\n",
      "3  -1.477568   0.145099  -1.839884\n",
      "4  -0.338106  -0.909764  -0.206581\n",
      "\n",
      "       Target\n",
      "0  136.348395\n",
      "1 -186.153788\n",
      "2  -33.101423\n",
      "3 -208.524742\n",
      "4  -62.258323\n",
      "\n",
      "   True Coefficient Values\n",
      "0                85.314089\n",
      "1                26.082374\n",
      "2                46.878990\n"
     ]
    }
   ],
   "source": [
    "## How to Create simulated data for regression in Python \n",
    "def create_s_d_for_regression():\n",
    "    print()\n",
    "    print(format('How to Create simulated data for regression in Python', '*^82'))\n",
    "\n",
    "    # Load libraries\n",
    "    import pandas as pd\n",
    "    from sklearn.datasets import make_regression\n",
    "\n",
    "    # Create Simulated Data\n",
    "    # Generate fetures, outputs, and true coefficient of 100 samples,\n",
    "    features, output, coef = make_regression(n_samples = 100, n_features = 3,\n",
    "                                n_informative = 3, n_targets = 1,\n",
    "                                noise = 0.0, coef = True)\n",
    "\n",
    "    # View Simulated Data\n",
    "    # View the features of the first five rows\n",
    "    print()\n",
    "    print(pd.DataFrame(features, columns=['Feature 1', 'Feature 2', 'Feature 3']).head())\n",
    "\n",
    "    # View the output of the first five rows\n",
    "    print()\n",
    "    print(pd.DataFrame(output, columns=['Target']).head())\n",
    "\n",
    "    # View the actual, true coefficients used to generate the data\n",
    "    print()\n",
    "    print(pd.DataFrame(coef, columns=['True Coefficient Values']))\n",
    "\n",
    "create_s_d_for_regression()"
   ]
  },
  {
   "cell_type": "code",
   "execution_count": null,
   "metadata": {},
   "outputs": [],
   "source": []
  }
 ],
 "metadata": {
  "kernelspec": {
   "display_name": "Python 3",
   "language": "python",
   "name": "python3"
  },
  "language_info": {
   "codemirror_mode": {
    "name": "ipython",
    "version": 3
   },
   "file_extension": ".py",
   "mimetype": "text/x-python",
   "name": "python",
   "nbconvert_exporter": "python",
   "pygments_lexer": "ipython3",
   "version": "3.7.3"
  }
 },
 "nbformat": 4,
 "nbformat_minor": 2
}
