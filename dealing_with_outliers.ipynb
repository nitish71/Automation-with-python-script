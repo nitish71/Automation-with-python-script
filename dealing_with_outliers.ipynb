{
 "cells": [
  {
   "cell_type": "code",
   "execution_count": 1,
   "metadata": {},
   "outputs": [
    {
     "name": "stdout",
     "output_type": "stream",
     "text": [
      "\n",
      "***********************How to deal with outliers in Python ***********************\n",
      "\n",
      "     Price  Bathrooms  Square_Feet\n",
      "0   534433        2.0         1500\n",
      "1   392333        3.5         2500\n",
      "2   293222        2.0         1500\n",
      "3  4322032      116.0        48000\n",
      "\n",
      "    Price  Bathrooms  Square_Feet\n",
      "0  534433        2.0         1500\n",
      "1  392333        3.5         2500\n",
      "2  293222        2.0         1500\n",
      "\n",
      "     Price  Bathrooms  Square_Feet  Outlier\n",
      "0   534433        2.0         1500        0\n",
      "1   392333        3.5         2500        0\n",
      "2   293222        2.0         1500        0\n",
      "3  4322032      116.0        48000        1\n",
      "\n",
      "     Price  Bathrooms  Square_Feet  Outlier  Log_Of_Square_Feet\n",
      "0   534433        2.0         1500        0            7.313220\n",
      "1   392333        3.5         2500        0            7.824046\n",
      "2   293222        2.0         1500        0            7.313220\n",
      "3  4322032      116.0        48000        1           10.778956\n"
     ]
    }
   ],
   "source": [
    "## How to deal with outliers in Python \n",
    "def deal_with_outliers():\n",
    "    print()\n",
    "    print(format('How to deal with outliers in Python ', '*^82'))\n",
    "\n",
    "    import warnings\n",
    "    warnings.filterwarnings(\"ignore\")\n",
    "\n",
    "    # Load library\n",
    "    import numpy as np\n",
    "    import pandas as pd\n",
    "\n",
    "    # Create DataFrame\n",
    "    houses = pd.DataFrame()\n",
    "    houses['Price'] = [534433, 392333, 293222, 4322032]\n",
    "    houses['Bathrooms'] = [2, 3.5, 2, 116]\n",
    "    houses['Square_Feet'] = [1500, 2500, 1500, 48000]\n",
    "    print(); print(houses)\n",
    "\n",
    "    # Outlier Handling Option 1: Drop\n",
    "    # Drop observations greater than some value\n",
    "    h = houses[houses['Bathrooms'] < 20]\n",
    "    print(); print(h)\n",
    "\n",
    "    # Outlier Handling Option 2: Mark\n",
    "    # Create feature based on boolean condition\n",
    "    houses['Outlier'] = np.where(houses['Bathrooms'] < 20, 0, 1)\n",
    "\n",
    "    # Show data\n",
    "    print(); print(houses)\n",
    "\n",
    "    # Outlier Handling Option 3: Rescale\n",
    "    # Log feature\n",
    "    houses['Log_Of_Square_Feet'] = [np.log(x) for x in houses['Square_Feet']]\n",
    "\n",
    "    # Show data\n",
    "    print(); print(houses)\n",
    "\n",
    "deal_with_outliers()"
   ]
  },
  {
   "cell_type": "code",
   "execution_count": null,
   "metadata": {},
   "outputs": [],
   "source": []
  }
 ],
 "metadata": {
  "kernelspec": {
   "display_name": "Python 3",
   "language": "python",
   "name": "python3"
  },
  "language_info": {
   "codemirror_mode": {
    "name": "ipython",
    "version": 3
   },
   "file_extension": ".py",
   "mimetype": "text/x-python",
   "name": "python",
   "nbconvert_exporter": "python",
   "pygments_lexer": "ipython3",
   "version": "3.7.3"
  }
 },
 "nbformat": 4,
 "nbformat_minor": 2
}
