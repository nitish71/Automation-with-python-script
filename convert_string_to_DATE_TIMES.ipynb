{
 "cells": [
  {
   "cell_type": "code",
   "execution_count": 1,
   "metadata": {},
   "outputs": [
    {
     "name": "stdout",
     "output_type": "stream",
     "text": [
      "\n",
      "******************How to convert Strings to DateTimes in Python*******************\n",
      "\n",
      "['01-01-2015 11:35 PM' '23-02-2016 12:01 AM' '26-12-2017 09:09 PM']\n",
      "\n",
      "[Timestamp('2015-01-01 23:35:00'), Timestamp('2016-02-23 00:01:00'), Timestamp('2017-12-26 21:09:00')]\n"
     ]
    }
   ],
   "source": [
    "## How to convert Strings to DateTimes in Python \n",
    "def convert_string_to_datetime():\n",
    "    print()\n",
    "    print(format('How to convert Strings to DateTimes in Python',\n",
    "                 '*^82'))\n",
    "    import warnings\n",
    "    warnings.filterwarnings(\"ignore\")\n",
    "\n",
    "    # Load libraries\n",
    "    import numpy as np\n",
    "    import pandas as pd\n",
    "\n",
    "    # Create strings\n",
    "    date_strings = np.array(['01-01-2015 11:35 PM',\n",
    "                             '23-02-2016 12:01 AM',\n",
    "                             '26-12-2017 09:09 PM'])\n",
    "    print()\n",
    "    print(date_strings)\n",
    "\n",
    "    # Convert to datetimes\n",
    "    print()\n",
    "    print([pd.to_datetime(date,\n",
    "                    format=\"%d-%m-%Y %I:%M %p\",\n",
    "                    errors=\"coerce\") for date in date_strings])\n",
    "convert_string_to_datetime()"
   ]
  },
  {
   "cell_type": "code",
   "execution_count": null,
   "metadata": {},
   "outputs": [],
   "source": []
  }
 ],
 "metadata": {
  "kernelspec": {
   "display_name": "Python 3",
   "language": "python",
   "name": "python3"
  },
  "language_info": {
   "codemirror_mode": {
    "name": "ipython",
    "version": 3
   },
   "file_extension": ".py",
   "mimetype": "text/x-python",
   "name": "python",
   "nbconvert_exporter": "python",
   "pygments_lexer": "ipython3",
   "version": "3.7.3"
  }
 },
 "nbformat": 4,
 "nbformat_minor": 2
}
