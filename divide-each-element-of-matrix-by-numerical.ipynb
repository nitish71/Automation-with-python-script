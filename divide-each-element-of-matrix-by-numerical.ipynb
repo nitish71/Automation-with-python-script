{
 "cells": [
  {
   "cell_type": "code",
   "execution_count": 2,
   "metadata": {},
   "outputs": [
    {
     "name": "stdout",
     "output_type": "stream",
     "text": [
      "\n",
      "******How to divide each element of a matrix by a numerical value*******\n",
      "\n",
      "[[0.22222222 0.33333333 2.55555556]\n",
      " [0.55555556 0.66666667 2.77777778]\n",
      " [0.88888889 1.         3.11111111]]\n"
     ]
    }
   ],
   "source": [
    "# How to Divide each electment of a matrix by a numerical value\n",
    "def operation_metrices_div():\n",
    "    print()\n",
    "    print(format('How to divide each element of a matrix by a numerical value',\n",
    "                 '*^72'))\n",
    "\n",
    "    # Load library\n",
    "    import numpy as np\n",
    "\n",
    "    # Create two vectors\n",
    "    matrixA = np.array([[2, 3, 23],\n",
    "                       [5, 6, 25],\n",
    "                       [8, 9, 28]])\n",
    "\n",
    "    # Create a function that adds 100 to something\n",
    "    add_100 = lambda i: i / 9\n",
    "\n",
    "    # Create a vectorized function\n",
    "    vectorized_add_100 = np.vectorize(add_100)\n",
    "\n",
    "    # Apply function to all elements in matrix\n",
    "    print(); print(vectorized_add_100(matrixA))\n",
    "\n",
    "operation_metrices_div()"
   ]
  },
  {
   "cell_type": "code",
   "execution_count": null,
   "metadata": {},
   "outputs": [],
   "source": []
  }
 ],
 "metadata": {
  "kernelspec": {
   "display_name": "Python 3",
   "language": "python",
   "name": "python3"
  },
  "language_info": {
   "codemirror_mode": {
    "name": "ipython",
    "version": 3
   },
   "file_extension": ".py",
   "mimetype": "text/x-python",
   "name": "python",
   "nbconvert_exporter": "python",
   "pygments_lexer": "ipython3",
   "version": "3.7.3"
  }
 },
 "nbformat": 4,
 "nbformat_minor": 2
}
