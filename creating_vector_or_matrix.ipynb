{
 "cells": [
  {
   "cell_type": "code",
   "execution_count": 1,
   "metadata": {},
   "outputs": [
    {
     "name": "stdout",
     "output_type": "stream",
     "text": [
      "\n",
      "**************How to Create/Transpose a Vector and/or Matrix***************\n",
      "\n",
      "Original Vector: \n",
      " [1 2 3 4 5 6]\n",
      "Transpose Vector: \n",
      " [1 2 3 4 5 6]\n",
      "\n",
      "Original Matrix: \n",
      " [[1 2 3]\n",
      " [4 5 6]\n",
      " [7 8 9]]\n",
      "Transpose Matrix: \n",
      " [[1 4 7]\n",
      " [2 5 8]\n",
      " [3 6 9]]\n"
     ]
    }
   ],
   "source": [
    "\n",
    "## How to Create & Transpose a Vector or Matrix\n",
    "def creating_vector_or_matrix():\n",
    "    print()\n",
    "    print(format('How to Create/Transpose a Vector and/or Matrix', '*^75'))\n",
    "\n",
    "    # Load library\n",
    "    import numpy as np\n",
    "\n",
    "    # Create vector\n",
    "    vector = np.array([1, 2, 3, 4, 5, 6])\n",
    "    print()\n",
    "    print(\"Original Vector: \\n\", vector)\n",
    "    # Tranpose vector\n",
    "    V = vector.T\n",
    "    print(\"Transpose Vector: \\n\", V)\n",
    "\n",
    "    # Create matrix\n",
    "    matrix = np.array([[1, 2, 3],\n",
    "                   [4, 5, 6],\n",
    "                   [7, 8, 9]])\n",
    "    print()\n",
    "    print(\"Original Matrix: \\n\", matrix)\n",
    "    # Transpose matrix\n",
    "    M = matrix.T\n",
    "    print(\"Transpose Matrix: \\n\", M)\n",
    "\n",
    "creating_vector_or_matrix()"
   ]
  },
  {
   "cell_type": "code",
   "execution_count": null,
   "metadata": {},
   "outputs": [],
   "source": []
  }
 ],
 "metadata": {
  "kernelspec": {
   "display_name": "Python 3",
   "language": "python",
   "name": "python3"
  },
  "language_info": {
   "codemirror_mode": {
    "name": "ipython",
    "version": 3
   },
   "file_extension": ".py",
   "mimetype": "text/x-python",
   "name": "python",
   "nbconvert_exporter": "python",
   "pygments_lexer": "ipython3",
   "version": "3.7.3"
  }
 },
 "nbformat": 4,
 "nbformat_minor": 2
}
