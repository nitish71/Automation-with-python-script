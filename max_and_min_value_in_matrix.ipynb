{
 "cells": [
  {
   "cell_type": "code",
   "execution_count": 1,
   "metadata": {},
   "outputs": [
    {
     "name": "stdout",
     "output_type": "stream",
     "text": [
      "\n",
      "***********How to find Maximum and Minimum values in a Matrix***********\n",
      "\n",
      "41\n",
      "\n",
      "1\n",
      "\n",
      "[10 11 12 41]\n",
      "\n",
      "[23 25 28 41]\n"
     ]
    }
   ],
   "source": [
    "\n",
    "## How to find Maximum and Minimum values in a Matrix\n",
    "def max_and_min_of_matrix():\n",
    "    print()\n",
    "    print(format('How to find Maximum and Minimum values in a Matrix',\n",
    "                 '*^72'))\n",
    "\n",
    "    # Load library\n",
    "    import numpy as np\n",
    "\n",
    "    # Create matrix\n",
    "    matrixA = np.array([[1, 2, 3, 23],\n",
    "                       [4, 5, 6, 25],\n",
    "                       [7, 8, 9, 28],\n",
    "                       [10, 11, 12, 41]])\n",
    "\n",
    "    # Return maximum element\n",
    "    print(); print(np.max(matrixA))\n",
    "\n",
    "    # Return minimum element\n",
    "    print(); print(np.min(matrixA))\n",
    "\n",
    "    # Find the maximum element in each column\n",
    "    print(); print(np.max(matrixA, axis=0))\n",
    "\n",
    "    # Find the maximum element in each row\n",
    "    print(); print(np.max(matrixA, axis=1))\n",
    "\n",
    "max_and_min_of_matrix()"
   ]
  },
  {
   "cell_type": "code",
   "execution_count": null,
   "metadata": {},
   "outputs": [],
   "source": []
  }
 ],
 "metadata": {
  "kernelspec": {
   "display_name": "Python 3",
   "language": "python",
   "name": "python3"
  },
  "language_info": {
   "codemirror_mode": {
    "name": "ipython",
    "version": 3
   },
   "file_extension": ".py",
   "mimetype": "text/x-python",
   "name": "python",
   "nbconvert_exporter": "python",
   "pygments_lexer": "ipython3",
   "version": "3.7.3"
  }
 },
 "nbformat": 4,
 "nbformat_minor": 2
}
