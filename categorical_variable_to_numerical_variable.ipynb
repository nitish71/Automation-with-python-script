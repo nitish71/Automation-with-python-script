{
 "cells": [
  {
   "cell_type": "code",
   "execution_count": 1,
   "metadata": {},
   "outputs": [
    {
     "name": "stdout",
     "output_type": "stream",
     "text": [
      "\n",
      "*****How to convert categorical variables into numerical variables in Python******\n",
      "\n",
      "  first_name last_name  gender\n",
      "0      Jason    Miller    male\n",
      "1      Molly  Jacobson  female\n",
      "2       Tina       Ali    male\n",
      "3       Jake    Milner  female\n",
      "4        Amy     Cooze  female\n",
      "\n",
      "  first_name last_name  gender  female  male\n",
      "0      Jason    Miller    male       0     1\n",
      "1      Molly  Jacobson  female       1     0\n",
      "2       Tina       Ali    male       0     1\n",
      "3       Jake    Milner  female       1     0\n",
      "4        Amy     Cooze  female       1     0\n",
      "\n",
      "  first_name last_name  gender  female  male\n",
      "0      Jason    Miller    male       0     1\n",
      "1      Molly  Jacobson  female       1     0\n",
      "2       Tina       Ali    male       0     1\n",
      "3       Jake    Milner  female       1     0\n",
      "4        Amy     Cooze  female       1     0\n"
     ]
    }
   ],
   "source": [
    "## How to convert categorical variables into numerical variables in Python\n",
    "def convert_CV_to_NV():\n",
    "    print()\n",
    "    print(format('How to convert categorical variables into numerical variables in Python','*^82'))\n",
    "\n",
    "    import warnings\n",
    "    warnings.filterwarnings(\"ignore\")\n",
    "\n",
    "    # load libraries\n",
    "    import pandas as pd\n",
    "\n",
    "    # Create a dataframe\n",
    "    data = {'first_name': ['Jason', 'Molly', 'Tina', 'Jake', 'Amy'],\n",
    "                'last_name': ['Miller', 'Jacobson', 'Ali', 'Milner', 'Cooze'],\n",
    "                'gender': ['male', 'female', 'male', 'female', 'female']}\n",
    "\n",
    "    df = pd.DataFrame(data, columns = ['first_name', 'last_name', 'gender'])\n",
    "    print(); print(df)\n",
    "\n",
    "    # Create a set of dummy variables from the gender variable\n",
    "    df_gender = pd.get_dummies(df['gender'])\n",
    "\n",
    "    # Join the dummy variables to the main dataframe\n",
    "    df_new = pd.concat([df, df_gender], axis=1)\n",
    "    print(); print(df_new)\n",
    "\n",
    "    # Alterative for joining the new columns\n",
    "    df_new = df.join(df_gender)\n",
    "    print(); print(df_new)\n",
    "\n",
    "convert_CV_to_NV()"
   ]
  },
  {
   "cell_type": "code",
   "execution_count": null,
   "metadata": {},
   "outputs": [],
   "source": []
  }
 ],
 "metadata": {
  "kernelspec": {
   "display_name": "Python 3",
   "language": "python",
   "name": "python3"
  },
  "language_info": {
   "codemirror_mode": {
    "name": "ipython",
    "version": 3
   },
   "file_extension": ".py",
   "mimetype": "text/x-python",
   "name": "python",
   "nbconvert_exporter": "python",
   "pygments_lexer": "ipython3",
   "version": "3.7.3"
  }
 },
 "nbformat": 4,
 "nbformat_minor": 2
}
