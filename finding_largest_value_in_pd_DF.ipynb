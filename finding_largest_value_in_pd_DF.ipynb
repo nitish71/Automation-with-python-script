{
 "cells": [
  {
   "cell_type": "code",
   "execution_count": 1,
   "metadata": {},
   "outputs": [
    {
     "name": "stdout",
     "output_type": "stream",
     "text": [
      "\n",
      "***************How to find the largest value in a Pandas DataFrame****************\n",
      "\n",
      "  first_name last_name  age  preTestScore  postTestScore\n",
      "0      Jason    Miller   42             4             25\n",
      "1      Molly  Jacobson   52            24             94\n",
      "2       Tina       Ali   36            31             57\n",
      "3       Jake    Milner   24             2             62\n",
      "4        Amy     Cooze   73             3             70\n",
      "\n",
      "Index of highest value: \n",
      "2\n",
      "Index of lowest value: \n",
      "3\n"
     ]
    }
   ],
   "source": [
    "## How to find the largest value in a Pandas DataFrame\n",
    "def Kickstarter_Example_88():\n",
    "    print()\n",
    "    print(format('How to find the largest value in a Pandas DataFrame','*^82'))\n",
    "\n",
    "    import warnings\n",
    "    warnings.filterwarnings(\"ignore\")\n",
    "\n",
    "    # load libraries\n",
    "    import pandas as pd\n",
    "\n",
    "    # Create dataframe\n",
    "    raw_data = {'first_name': ['Jason', 'Molly', 'Tina', 'Jake', 'Amy'],\n",
    "                'last_name': ['Miller', 'Jacobson', 'Ali', 'Milner', 'Cooze'],\n",
    "                'age': [42, 52, 36, 24, 73],\n",
    "                'preTestScore': [4, 24, 31, 2, 3],\n",
    "                'postTestScore': [25, 94, 57, 62, 70]}\n",
    "\n",
    "    df = pd.DataFrame(raw_data, columns = ['first_name', 'last_name', 'age',\n",
    "                                           'preTestScore', 'postTestScore'])\n",
    "    print(); print(df)\n",
    "\n",
    "    # Index of the row with the highest and  lowest value in the preTestScore column\n",
    "    print()\n",
    "    print(\"Index of highest value: \"); print(df['preTestScore'].idxmax())\n",
    "    print(\"Index of lowest value: \"); print(df['preTestScore'].idxmin())\n",
    "\n",
    "Kickstarter_Example_88()"
   ]
  },
  {
   "cell_type": "code",
   "execution_count": null,
   "metadata": {},
   "outputs": [],
   "source": []
  }
 ],
 "metadata": {
  "kernelspec": {
   "display_name": "Python 3",
   "language": "python",
   "name": "python3"
  },
  "language_info": {
   "codemirror_mode": {
    "name": "ipython",
    "version": 3
   },
   "file_extension": ".py",
   "mimetype": "text/x-python",
   "name": "python",
   "nbconvert_exporter": "python",
   "pygments_lexer": "ipython3",
   "version": "3.7.3"
  }
 },
 "nbformat": 4,
 "nbformat_minor": 2
}
