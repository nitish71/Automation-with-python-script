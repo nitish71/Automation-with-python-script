{
 "cells": [
  {
   "cell_type": "code",
   "execution_count": 1,
   "metadata": {},
   "outputs": [
    {
     "name": "stdout",
     "output_type": "stream",
     "text": [
      "\n",
      "**************************How to find outliers in Python**************************\n",
      "\n",
      "[[ 4.93252797  7.68541287 -3.97876821 ...  4.52684633 -3.24863123\n",
      "   9.41974416]\n",
      " [-9.3234536   4.59276437 -4.39779468 ... -7.09597087  8.20227193\n",
      "   2.26134033]\n",
      " [-8.7338198   3.08658417 -3.49905765 ... -6.82385124  8.775862\n",
      "   1.38825176]\n",
      " ...\n",
      " [-2.83969517 -6.07980264  6.47763993 ... -9.36607752 -2.57352093\n",
      "  -9.39410402]\n",
      " [-2.1671993  10.63717797  5.58330442 ...  0.50898027 -1.25365592\n",
      "  -5.02572796]\n",
      " [ 7.21074034  9.28156979 -3.54240715 ...  3.89782083 -3.2259812\n",
      "  11.03335594]]\n",
      "\n",
      "[ 1  1  1  1  1  1  1  1  1  1 -1  1  1  1  1  1  1  1  1  1  1  1  1  1\n",
      "  1  1  1  1  1  1  1 -1 -1 -1  1 -1  1  1 -1  1  1  1  1  1  1  1  1  1\n",
      "  1  1  1  1  1  1  1  1  1  1  1  1  1  1  1  1  1  1  1  1  1  1  1  1\n",
      "  1  1  1  1  1  1  1  1  1  1  1  1  1  1  1  1 -1  1  1 -1  1 -1  1  1\n",
      " -1  1  1  1]\n"
     ]
    },
    {
     "data": {
      "text/plain": [
       "<Figure size 640x480 with 1 Axes>"
      ]
     },
     "metadata": {},
     "output_type": "display_data"
    }
   ],
   "source": [
    "\n",
    "## How to find outliers in Python \n",
    "def finding_outliers():\n",
    "    print()\n",
    "    print(format('How to find outliers in Python', '*^82'))\n",
    "\n",
    "    import warnings\n",
    "    warnings.filterwarnings(\"ignore\")\n",
    "\n",
    "    # Load libraries\n",
    "    from sklearn.covariance import EllipticEnvelope\n",
    "    from sklearn.datasets import make_blobs\n",
    "    import matplotlib.pyplot as plt\n",
    "\n",
    "    # Create simulated data\n",
    "    X, _ = make_blobs(n_samples = 100,\n",
    "                      n_features = 20,\n",
    "                      centers = 7,\n",
    "                      cluster_std = 1.1,\n",
    "                      shuffle = True,\n",
    "                      random_state = 42)\n",
    "\n",
    "    # Detect Outliers\n",
    "    # Create detector\n",
    "    outlier_detector = EllipticEnvelope(contamination=.1)\n",
    "\n",
    "    # Fit detector\n",
    "    outlier_detector.fit(X)\n",
    "\n",
    "    # Predict outliers\n",
    "    print(); print(X)\n",
    "    print(); print(outlier_detector.predict(X))\n",
    "    plt.scatter(X[:,0], X[:,1])\n",
    "\n",
    "    # Show the scatterplot\n",
    "    plt.show()\n",
    "\n",
    "finding_outliers()"
   ]
  },
  {
   "cell_type": "code",
   "execution_count": null,
   "metadata": {},
   "outputs": [],
   "source": []
  }
 ],
 "metadata": {
  "kernelspec": {
   "display_name": "Python 3",
   "language": "python",
   "name": "python3"
  },
  "language_info": {
   "codemirror_mode": {
    "name": "ipython",
    "version": 3
   },
   "file_extension": ".py",
   "mimetype": "text/x-python",
   "name": "python",
   "nbconvert_exporter": "python",
   "pygments_lexer": "ipython3",
   "version": "3.7.3"
  }
 },
 "nbformat": 4,
 "nbformat_minor": 2
}
