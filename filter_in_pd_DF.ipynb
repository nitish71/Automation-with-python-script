{
 "cells": [
  {
   "cell_type": "code",
   "execution_count": 1,
   "metadata": {},
   "outputs": [
    {
     "name": "stdout",
     "output_type": "stream",
     "text": [
      "\n",
      "*************************How to filter a Pandas DataFrame*************************\n",
      "\n",
      "             name  year  reports  coverage\n",
      "Cochice     Jason  2012        4        25\n",
      "Pima        Molly  2012       24        94\n",
      "Santa Cruz   Tina  2013       31        57\n",
      "Maricopa     Jake  2014        2        62\n",
      "Yuma          Amy  2014        3        70\n",
      "\n",
      "Cochice       Jason\n",
      "Pima          Molly\n",
      "Santa Cruz     Tina\n",
      "Maricopa       Jake\n",
      "Yuma            Amy\n",
      "Name: name, dtype: object\n",
      "\n",
      "             name  reports\n",
      "Cochice     Jason        4\n",
      "Pima        Molly       24\n",
      "Santa Cruz   Tina       31\n",
      "Maricopa     Jake        2\n",
      "Yuma          Amy        3\n",
      "\n",
      "          name  year  reports  coverage\n",
      "Cochice  Jason  2012        4        25\n",
      "Pima     Molly  2012       24        94\n",
      "\n",
      "             name  year  reports  coverage\n",
      "Pima        Molly  2012       24        94\n",
      "Santa Cruz   Tina  2013       31        57\n",
      "Maricopa     Jake  2014        2        62\n",
      "Yuma          Amy  2014        3        70\n",
      "\n",
      "          name  year  reports  coverage\n",
      "Maricopa  Jake  2014        2        62\n",
      "Yuma       Amy  2014        3        70\n"
     ]
    }
   ],
   "source": [
    "## How to filter in a Pandas DataFrame\n",
    "def filter_in_pd_DF():\n",
    "    print()\n",
    "    print(format('How to filter a Pandas DataFrame','*^82'))\n",
    "\n",
    "    import warnings\n",
    "    warnings.filterwarnings(\"ignore\")\n",
    "\n",
    "    # load libraries\n",
    "    import pandas as pd\n",
    "\n",
    "    # Create Dataframe\n",
    "    data = {'name': ['Jason', 'Molly', 'Tina', 'Jake', 'Amy'],\n",
    "            'year': [2012, 2012, 2013, 2014, 2014],\n",
    "            'reports': [4, 24, 31, 2, 3],\n",
    "            'coverage': [25, 94, 57, 62, 70]}\n",
    "\n",
    "    df = pd.DataFrame(data, index = ['Cochice', 'Pima', 'Santa Cruz', 'Maricopa', 'Yuma'])\n",
    "    print(); print(df)\n",
    "\n",
    "    # View Column\n",
    "    print(); print(df['name'])\n",
    "\n",
    "    # View Two Columns\n",
    "    print(); print(df[['name', 'reports']])\n",
    "\n",
    "    # View First Two Rows\n",
    "    print(); print(df[:2])\n",
    "\n",
    "    # View Rows Where Coverage Is Greater Than 50\n",
    "    print(); print(df[df['coverage'] > 50])\n",
    "\n",
    "    # View Rows Where Coverage Is Greater Than 50 And Reports Less Than 4\n",
    "    print(); print(df[(df['coverage']  > 50) & (df['reports'] < 4)])\n",
    "\n",
    "filter_in_pd_DF()"
   ]
  },
  {
   "cell_type": "code",
   "execution_count": null,
   "metadata": {},
   "outputs": [],
   "source": []
  }
 ],
 "metadata": {
  "kernelspec": {
   "display_name": "Python 3",
   "language": "python",
   "name": "python3"
  },
  "language_info": {
   "codemirror_mode": {
    "name": "ipython",
    "version": 3
   },
   "file_extension": ".py",
   "mimetype": "text/x-python",
   "name": "python",
   "nbconvert_exporter": "python",
   "pygments_lexer": "ipython3",
   "version": "3.7.3"
  }
 },
 "nbformat": 4,
 "nbformat_minor": 2
}
