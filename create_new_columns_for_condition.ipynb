{
 "cells": [
  {
   "cell_type": "code",
   "execution_count": 1,
   "metadata": {},
   "outputs": [
    {
     "name": "stdout",
     "output_type": "stream",
     "text": [
      "\n",
      "************How to create a new column based on a condition in Python*************\n",
      "\n",
      "    name  age  preTestScore  postTestScore\n",
      "0  Jason   42             4             25\n",
      "1  Molly   52            24             94\n",
      "2   Tina   63            31             57\n",
      "3   Jake   24             2             62\n",
      "4    Amy   73             3             70\n",
      "\n",
      "    name  age  preTestScore  postTestScore elderly@50 elderly@60 elderly@70\n",
      "0  Jason   42             4             25         no         no         no\n",
      "1  Molly   52            24             94        yes         no         no\n",
      "2   Tina   63            31             57        yes        yes         no\n",
      "3   Jake   24             2             62         no         no         no\n",
      "4    Amy   73             3             70        yes        yes        yes\n"
     ]
    }
   ],
   "source": [
    "## How to create a new column based on a condition in Python\n",
    "def create_columns():\n",
    "    print()\n",
    "    print(format('How to create a new column based on a condition in Python','*^82'))\n",
    "\n",
    "    import warnings\n",
    "    warnings.filterwarnings(\"ignore\")\n",
    "\n",
    "    # load libraries\n",
    "    import pandas as pd\n",
    "    import numpy as np\n",
    "\n",
    "    # Make a dataframe\n",
    "    data = {'name': ['Jason', 'Molly', 'Tina', 'Jake', 'Amy'],\n",
    "            'age': [42, 52, 63, 24, 73],\n",
    "            'preTestScore': [4, 24, 31, 2, 3],\n",
    "            'postTestScore': [25, 94, 57, 62, 70]}\n",
    "\n",
    "    df = pd.DataFrame(data, columns = ['name', 'age', 'preTestScore', 'postTestScore'])\n",
    "    print(); print(df)\n",
    "\n",
    "    # Create a new column called df.elderly where the value is yes\n",
    "    df['elderly@50'] = np.where(df['age']>=50, 'yes', 'no')\n",
    "    df['elderly@60'] = np.where(df['age']>=60, 'yes', 'no')\n",
    "    df['elderly@70'] = np.where(df['age']>=70, 'yes', 'no')\n",
    "\n",
    "    # View the dataframe\n",
    "    print(); print(df)\n",
    "\n",
    "create_columns()"
   ]
  },
  {
   "cell_type": "code",
   "execution_count": null,
   "metadata": {},
   "outputs": [],
   "source": []
  }
 ],
 "metadata": {
  "kernelspec": {
   "display_name": "Python 3",
   "language": "python",
   "name": "python3"
  },
  "language_info": {
   "codemirror_mode": {
    "name": "ipython",
    "version": 3
   },
   "file_extension": ".py",
   "mimetype": "text/x-python",
   "name": "python",
   "nbconvert_exporter": "python",
   "pygments_lexer": "ipython3",
   "version": "3.7.3"
  }
 },
 "nbformat": 4,
 "nbformat_minor": 2
}
