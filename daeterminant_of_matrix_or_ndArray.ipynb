{
 "cells": [
  {
   "cell_type": "code",
   "execution_count": 1,
   "metadata": {},
   "outputs": [
    {
     "name": "stdout",
     "output_type": "stream",
     "text": [
      "\n",
      "**********How to Calculate Determinant of a Matrix or ndArray***********\n",
      "\n",
      "-4.862776847858206e-15\n",
      "\n",
      "33.99999999999999\n"
     ]
    }
   ],
   "source": [
    "# How to Calculate Determinant of a Matrix or ndArray\n",
    "def determinant_of_matrix_ndarray():\n",
    "    print()\n",
    "    print(format('How to Calculate Determinant of a Matrix or ndArray'\n",
    "                 , '*^72'))\n",
    "    # Load library\n",
    "    import numpy as np\n",
    "    # Create matrix\n",
    "    matrixA = np.array([[1, 2, 3, 23],\n",
    "                       [4, 5, 6, 25],\n",
    "                       [7, 8, 9, 28],\n",
    "                       [10, 11, 12, 41]])\n",
    "\n",
    "    matrixB = np.array([[2, 3, 4],\n",
    "                       [5, 6, 9],\n",
    "                       [7, 8, 1]])\n",
    "    # Return determinant of matrix\n",
    "    print(); print(np.linalg.det(matrixA))\n",
    "    print(); print(np.linalg.det(matrixB))\n",
    "determinant_of_matrix_ndarray()"
   ]
  },
  {
   "cell_type": "code",
   "execution_count": null,
   "metadata": {},
   "outputs": [],
   "source": []
  }
 ],
 "metadata": {
  "kernelspec": {
   "display_name": "Python 3",
   "language": "python",
   "name": "python3"
  },
  "language_info": {
   "codemirror_mode": {
    "name": "ipython",
    "version": 3
   },
   "file_extension": ".py",
   "mimetype": "text/x-python",
   "name": "python",
   "nbconvert_exporter": "python",
   "pygments_lexer": "ipython3",
   "version": "3.7.3"
  }
 },
 "nbformat": 4,
 "nbformat_minor": 2
}
