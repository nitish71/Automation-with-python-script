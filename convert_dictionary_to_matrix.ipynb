{
 "cells": [
  {
   "cell_type": "code",
   "execution_count": 2,
   "metadata": {},
   "outputs": [
    {
     "name": "stdout",
     "output_type": "stream",
     "text": [
      "\n",
      "**********How to Convert a Dictionary into a Matrix or ndArray**********\n",
      "\n",
      "[{'Apple': 2, 'Orange': 4}, {'Apple': 4, 'Orange': 3}, {'Apple': 1, 'Banana': 2}, {'Apple': 2, 'Banana': 2}]\n",
      "\n",
      "[[2. 0. 4.]\n",
      " [4. 0. 3.]\n",
      " [1. 2. 0.]\n",
      " [2. 2. 0.]]\n"
     ]
    }
   ],
   "source": [
    "## How to Convert a Dictionary into a Matrix or nArray\n",
    "def dictionary_to_matrix():\n",
    "    print()\n",
    "    print(format('How to Convert a Dictionary into a Matrix or ndArray',\n",
    "                 '*^72'))\n",
    "\n",
    "    # Load library\n",
    "    from sklearn.feature_extraction import DictVectorizer\n",
    "\n",
    "    # Our dictionary of data\n",
    "    data_dict = [{'Apple': 2, 'Orange': 4},\n",
    "                 {'Apple': 4, 'Orange': 3},\n",
    "                 {'Apple': 1, 'Banana': 2},\n",
    "                 {'Apple': 2, 'Banana': 2}]\n",
    "    print()\n",
    "    print(data_dict)\n",
    "\n",
    "    # Create DictVectorizer object\n",
    "    dictvectorizer = DictVectorizer(sparse=False)\n",
    "\n",
    "    # Convert dictionary into feature matrix\n",
    "    features = dictvectorizer.fit_transform(data_dict)\n",
    "\n",
    "    # View feature matrix\n",
    "    print()\n",
    "    print(features)\n",
    "\n",
    "    # View feature matrix column names\n",
    "    dictvectorizer.get_feature_names()\n",
    "\n",
    "dictionary_to_matrix()"
   ]
  },
  {
   "cell_type": "code",
   "execution_count": null,
   "metadata": {},
   "outputs": [],
   "source": []
  }
 ],
 "metadata": {
  "kernelspec": {
   "display_name": "Python 3",
   "language": "python",
   "name": "python3"
  },
  "language_info": {
   "codemirror_mode": {
    "name": "ipython",
    "version": 3
   },
   "file_extension": ".py",
   "mimetype": "text/x-python",
   "name": "python",
   "nbconvert_exporter": "python",
   "pygments_lexer": "ipython3",
   "version": "3.7.3"
  }
 },
 "nbformat": 4,
 "nbformat_minor": 2
}
