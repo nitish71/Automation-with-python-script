{
 "cells": [
  {
   "cell_type": "code",
   "execution_count": 1,
   "metadata": {},
   "outputs": [
    {
     "name": "stdout",
     "output_type": "stream",
     "text": [
      "\n",
      "************************randomly sample a Pandas DataFrame************************\n",
      "\n",
      "  first_name last_name  age  preTestScore  postTestScore\n",
      "0      Jason    Miller   42             4             25\n",
      "1      Molly  Jacobson   52            24             94\n",
      "2       Tina       Ali   36            31             57\n",
      "3       Jake    Milner   24             2             62\n",
      "4        Amy     Cooze   73             3             70\n",
      "\n",
      "  first_name last_name  age  preTestScore  postTestScore\n",
      "4        Amy     Cooze   73             3             70\n",
      "3       Jake    Milner   24             2             62\n",
      "\n",
      "  first_name last_name  age  preTestScore  postTestScore\n",
      "0      Jason    Miller   42             4             25\n",
      "2       Tina       Ali   36            31             57\n",
      "4        Amy     Cooze   73             3             70\n",
      "3       Jake    Milner   24             2             62\n",
      "\n",
      "  first_name last_name  age  preTestScore  postTestScore\n",
      "4        Amy     Cooze   73             3             70\n",
      "1      Molly  Jacobson   52            24             94\n",
      "0      Jason    Miller   42             4             25\n"
     ]
    }
   ],
   "source": [
    "## How to randomly sample a Pandas DataFrame\n",
    "def RANDOM_sample_DF():\n",
    "    print()\n",
    "    print(format('randomly sample a Pandas DataFrame','*^82'))\n",
    "    import warnings\n",
    "    warnings.filterwarnings(\"ignore\")\n",
    "    # load libraries\n",
    "    import pandas as pd\n",
    "    import numpy as np\n",
    "    # Create dataframe\n",
    "    raw_data = {'first_name': ['Jason', 'Molly', 'Tina', 'Jake', 'Amy'],\n",
    "                'last_name': ['Miller', 'Jacobson', 'Ali', 'Milner', 'Cooze'],\n",
    "                'age': [42, 52, 36, 24, 73],\n",
    "                'preTestScore': [4, 24, 31, 2, 3],\n",
    "                'postTestScore': [25, 94, 57, 62, 70]}\n",
    "    df = pd.DataFrame(raw_data, columns = ['first_name', 'last_name', 'age',\n",
    "                                           'preTestScore', 'postTestScore'])\n",
    "    print(); print(df)\n",
    "    # Select a random subset of 2 without replacement\n",
    "    print(); print(df.take(np.random.permutation(len(df))[:2]))\n",
    "    # Select a random subset of 4 without replacement\n",
    "    print(); print(df.take(np.random.permutation(len(df))[:4]))\n",
    "    # random sample of df    \n",
    "    df1 = df.sample(3)\n",
    "    print(); print(df1)\n",
    "RANDOM_sample_DF()\n"
   ]
  },
  {
   "cell_type": "code",
   "execution_count": null,
   "metadata": {},
   "outputs": [],
   "source": []
  }
 ],
 "metadata": {
  "kernelspec": {
   "display_name": "Python 3",
   "language": "python",
   "name": "python3"
  },
  "language_info": {
   "codemirror_mode": {
    "name": "ipython",
    "version": 3
   },
   "file_extension": ".py",
   "mimetype": "text/x-python",
   "name": "python",
   "nbconvert_exporter": "python",
   "pygments_lexer": "ipython3",
   "version": "3.7.3"
  }
 },
 "nbformat": 4,
 "nbformat_minor": 2
}
