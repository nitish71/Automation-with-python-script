{
 "cells": [
  {
   "cell_type": "code",
   "execution_count": 1,
   "metadata": {},
   "outputs": [
    {
     "name": "stdout",
     "output_type": "stream",
     "text": [
      "\n",
      "**********How to add a constant to each electment of a matrix***********\n",
      "\n",
      "[[102 103 123]\n",
      " [105 106 125]\n",
      " [108 109 128]]\n"
     ]
    }
   ],
   "source": [
    "# How to ADD numerical value to each electment of a matrix\n",
    "def operation_metrices_add():\n",
    "    print()\n",
    "    print(format('How to add a constant to each electment of a matrix',\n",
    "                 '*^72'))\n",
    "\n",
    "    # Load library\n",
    "    import numpy as np\n",
    "\n",
    "    # Create two vectors\n",
    "    matrixA = np.array([[2, 3, 23],\n",
    "                       [5, 6, 25],\n",
    "                       [8, 9, 28]])\n",
    "\n",
    "\n",
    "    # Create a function that adds 100 to something\n",
    "    add_100 = lambda i: i + 100\n",
    "\n",
    "    # Create a vectorized function\n",
    "    vectorized_add_100 = np.vectorize(add_100)\n",
    "\n",
    "    # Apply function to all elements in matrix\n",
    "    print(); print(vectorized_add_100(matrixA))\n",
    "\n",
    "operation_metrices_add()"
   ]
  },
  {
   "cell_type": "code",
   "execution_count": null,
   "metadata": {},
   "outputs": [],
   "source": []
  }
 ],
 "metadata": {
  "kernelspec": {
   "display_name": "Python 3",
   "language": "python",
   "name": "python3"
  },
  "language_info": {
   "codemirror_mode": {
    "name": "ipython",
    "version": 3
   },
   "file_extension": ".py",
   "mimetype": "text/x-python",
   "name": "python",
   "nbconvert_exporter": "python",
   "pygments_lexer": "ipython3",
   "version": "3.7.3"
  }
 },
 "nbformat": 4,
 "nbformat_minor": 2
}
