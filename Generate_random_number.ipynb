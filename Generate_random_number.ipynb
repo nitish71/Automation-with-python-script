{
 "cells": [
  {
   "cell_type": "code",
   "execution_count": 1,
   "metadata": {},
   "outputs": [
    {
     "name": "stdout",
     "output_type": "stream",
     "text": [
      "\n",
      "**********************How to create RANDOM Numbers in Python**********************\n",
      "\n",
      "-0.01065223113737504\n",
      "\n",
      "[ 1.22487186 -1.39454144  0.87210171 -0.88476355  0.94671736 -2.02305378\n",
      "  0.31164068 -2.20116933 -0.85125111 -1.79145425 -0.36856083  0.26747597\n",
      " -1.07228726  0.40551273]\n",
      "\n",
      "[0.40208624 0.91857286 0.32970327 0.63509231 0.54559324 0.82310698\n",
      " 0.5765941  0.21461125 0.53630588 0.29949498 0.24520755 0.36125365\n",
      " 0.39113499 0.09415983]\n",
      "\n",
      "[63  2 22  3 68 72 45 94 37  7 35 41 39 10]\n"
     ]
    }
   ],
   "source": [
    "## How to create RANDOM Numbers in Python\n",
    "def Random_class():\n",
    "    print()\n",
    "    print(format('How to create RANDOM Numbers in Python','*^82'))\n",
    "\n",
    "    import warnings\n",
    "    warnings.filterwarnings(\"ignore\")\n",
    "\n",
    "    # Load Libraries\n",
    "    import numpy as np\n",
    "\n",
    "    # Generate A Random Number From The Normal Distribution\n",
    "    print(); print(np.random.normal())\n",
    "\n",
    "    # Generate Four Random Numbers From The Normal Distribution\n",
    "    print(); print(np.random.normal(size=14))\n",
    "\n",
    "    # Generate Four Random Numbers From The Uniform Distribution\n",
    "    print(); print(np.random.uniform(size=14))\n",
    "\n",
    "    # Generate Four Random Integers Between 1 and 100\n",
    "    print(); print(np.random.randint(low=1, high=100, size=14))\n",
    "\n",
    "Random_class()"
   ]
  },
  {
   "cell_type": "code",
   "execution_count": null,
   "metadata": {},
   "outputs": [],
   "source": []
  }
 ],
 "metadata": {
  "kernelspec": {
   "display_name": "Python 3",
   "language": "python",
   "name": "python3"
  },
  "language_info": {
   "codemirror_mode": {
    "name": "ipython",
    "version": 3
   },
   "file_extension": ".py",
   "mimetype": "text/x-python",
   "name": "python",
   "nbconvert_exporter": "python",
   "pygments_lexer": "ipython3",
   "version": "3.7.3"
  }
 },
 "nbformat": 4,
 "nbformat_minor": 2
}
