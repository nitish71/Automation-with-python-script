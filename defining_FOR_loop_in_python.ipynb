{
 "cells": [
  {
   "cell_type": "code",
   "execution_count": 1,
   "metadata": {},
   "outputs": [
    {
     "name": "stdout",
     "output_type": "stream",
     "text": [
      "\n",
      "*************************How to define FOR Loop in Python*************************\n",
      "10000000000000000000\n",
      "5242880000000000000000000\n",
      "11622614670000000000000000000\n",
      "2748779069440000000000000000000\n",
      "190734863281250000000000000000000\n",
      "All done!\n"
     ]
    }
   ],
   "source": [
    "## How to define FOR Loop in Python\n",
    "def defining_FOR_loop():\n",
    "    print()\n",
    "    print(format('How to define FOR Loop in Python','*^82'))\n",
    "\n",
    "    import warnings\n",
    "    warnings.filterwarnings(\"ignore\")\n",
    "\n",
    "    for i in [10, 20, 30, 40, 50]:\n",
    "        x = i ** 19\n",
    "        print(x)\n",
    "\n",
    "    else: print('All done!')\n",
    "\n",
    "defining_FOR_loop()"
   ]
  },
  {
   "cell_type": "code",
   "execution_count": null,
   "metadata": {},
   "outputs": [],
   "source": []
  }
 ],
 "metadata": {
  "kernelspec": {
   "display_name": "Python 3",
   "language": "python",
   "name": "python3"
  },
  "language_info": {
   "codemirror_mode": {
    "name": "ipython",
    "version": 3
   },
   "file_extension": ".py",
   "mimetype": "text/x-python",
   "name": "python",
   "nbconvert_exporter": "python",
   "pygments_lexer": "ipython3",
   "version": "3.7.3"
  }
 },
 "nbformat": 4,
 "nbformat_minor": 2
}
