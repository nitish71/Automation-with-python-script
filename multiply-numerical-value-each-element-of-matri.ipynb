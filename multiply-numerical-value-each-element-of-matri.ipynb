{
 "cells": [
  {
   "cell_type": "code",
   "execution_count": 1,
   "metadata": {},
   "outputs": [
    {
     "name": "stdout",
     "output_type": "stream",
     "text": [
      "\n",
      "********How to multiply something to each electment of a matrix*********\n",
      "\n",
      "[[ 200  300 2300]\n",
      " [ 500  600 2500]\n",
      " [ 800  900 2800]]\n"
     ]
    }
   ],
   "source": [
    "\n",
    "## How to MULTIPLY numerical value to each electment of a matrix\n",
    "def operation_metrices_mul():\n",
    "    print()\n",
    "    print(format('How to multiply something to each electment of a matrix',\n",
    "                 '*^72'))\n",
    "\n",
    "    # Load library\n",
    "    import numpy as np\n",
    "\n",
    "    # Create two vectors\n",
    "    matrixA = np.array([[2, 3, 23],\n",
    "                       [5, 6, 25],\n",
    "                       [8, 9, 28]])\n",
    "\n",
    "    # Create a function that multipies 100 to something\n",
    "    multiply_100 = lambda i: i * 100\n",
    "\n",
    "    # Create a vectorized function\n",
    "    vectorized_multiply_100 = np.vectorize(multiply_100)\n",
    "\n",
    "    # Apply function to all elements in matrix\n",
    "    print(); print(vectorized_multiply_100(matrixA))\n",
    "\n",
    "operation_metrices_mul()"
   ]
  },
  {
   "cell_type": "code",
   "execution_count": null,
   "metadata": {},
   "outputs": [],
   "source": []
  }
 ],
 "metadata": {
  "kernelspec": {
   "display_name": "Python 3",
   "language": "python",
   "name": "python3"
  },
  "language_info": {
   "codemirror_mode": {
    "name": "ipython",
    "version": 3
   },
   "file_extension": ".py",
   "mimetype": "text/x-python",
   "name": "python",
   "nbconvert_exporter": "python",
   "pygments_lexer": "ipython3",
   "version": "3.7.3"
  }
 },
 "nbformat": 4,
 "nbformat_minor": 2
}
