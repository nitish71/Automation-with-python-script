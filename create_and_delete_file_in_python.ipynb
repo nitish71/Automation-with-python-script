{
 "cells": [
  {
   "cell_type": "code",
   "execution_count": 1,
   "metadata": {},
   "outputs": [
    {
     "name": "stdout",
     "output_type": "stream",
     "text": [
      "\n",
      "********************How to create and Delete a file in Python*********************\n",
      "This is a New File. Just Created!\n"
     ]
    }
   ],
   "source": [
    "# How to Create and Delete a file in Python\n",
    "def create_and_delete_file():\n",
    "    print()\n",
    "    print(format('How to create and Delete a file in Python','*^82'))\n",
    "    import warnings\n",
    "    warnings.filterwarnings(\"ignore\")\n",
    "\n",
    "    import os\n",
    "    # Create a file if it doesn't already exist\n",
    "    with open('file.txt', 'xt') as f:\n",
    "        # Write to the file\n",
    "        f.write('This is a New File. Just Created!')\n",
    "        # Close the connection to the file\n",
    "        f.close()\n",
    "    # Open The File And Read It\n",
    "    with open('file.txt', 'rt') as f:\n",
    "        # Read the data in the file\n",
    "        data = f.read()\n",
    "        # Close the connection to the file\n",
    "        f.close()\n",
    "    # View The Contents Of The File\n",
    "    print(data)\n",
    "\n",
    "    # Delete The File\n",
    "    os.remove('file.txt')\n",
    "create_and_delete_file()"
   ]
  },
  {
   "cell_type": "code",
   "execution_count": null,
   "metadata": {},
   "outputs": [],
   "source": []
  }
 ],
 "metadata": {
  "kernelspec": {
   "display_name": "Python 3",
   "language": "python",
   "name": "python3"
  },
  "language_info": {
   "codemirror_mode": {
    "name": "ipython",
    "version": 3
   },
   "file_extension": ".py",
   "mimetype": "text/x-python",
   "name": "python",
   "nbconvert_exporter": "python",
   "pygments_lexer": "ipython3",
   "version": "3.7.3"
  }
 },
 "nbformat": 4,
 "nbformat_minor": 2
}
