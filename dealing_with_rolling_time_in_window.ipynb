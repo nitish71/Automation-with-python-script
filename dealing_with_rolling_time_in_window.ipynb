{
 "cells": [
  {
   "cell_type": "code",
   "execution_count": 1,
   "metadata": {},
   "outputs": [
    {
     "name": "stdout",
     "output_type": "stream",
     "text": [
      "\n",
      "******************How to deal with Rolling Time Window in Python******************\n",
      "\n",
      "            Stock_Price\n",
      "2010-01-31            1\n",
      "2010-02-28            2\n",
      "2010-03-31            3\n",
      "2010-04-30            4\n",
      "2010-05-31            5\n",
      "\n",
      "            Stock_Price\n",
      "2010-01-31          NaN\n",
      "2010-02-28          1.5\n",
      "2010-03-31          2.5\n",
      "2010-04-30          3.5\n",
      "2010-05-31          4.5\n",
      "\n",
      "            Stock_Price\n",
      "2010-01-31          NaN\n",
      "2010-02-28          2.0\n",
      "2010-03-31          3.0\n",
      "2010-04-30          4.0\n",
      "2010-05-31          5.0\n"
     ]
    }
   ],
   "source": [
    "## How to deal with Rolling Tine Window in Python \n",
    "def Rolling_time():\n",
    "    print()\n",
    "    print(format('How to deal with Rolling Time Window in Python','*^82'))\n",
    "    import warnings\n",
    "    warnings.filterwarnings(\"ignore\")\n",
    "\n",
    "    # Load library\n",
    "    import pandas as pd\n",
    "\n",
    "    # Create datetimes\n",
    "    time_index = pd.date_range('01/01/2010', periods=5, freq='M')\n",
    "\n",
    "    # Create data frame, set index\n",
    "    df = pd.DataFrame(index=time_index)\n",
    "\n",
    "    # Create feature\n",
    "    df['Stock_Price'] = [1,2,3,4,5]\n",
    "    print(); print(df)\n",
    "\n",
    "    # Create A Rolling Time Window Of Two Rows\n",
    "    # Calculate rolling mean\n",
    "    df1 = df.rolling(window=2).mean()\n",
    "    print(); print(df1)\n",
    "\n",
    "    # Identify max value in rolling time window\n",
    "    df2 = df.rolling(window=2).max()\n",
    "    print(); print(df2)\n",
    "\n",
    "Rolling_time()"
   ]
  },
  {
   "cell_type": "code",
   "execution_count": null,
   "metadata": {},
   "outputs": [],
   "source": []
  }
 ],
 "metadata": {
  "kernelspec": {
   "display_name": "Python 3",
   "language": "python",
   "name": "python3"
  },
  "language_info": {
   "codemirror_mode": {
    "name": "ipython",
    "version": 3
   },
   "file_extension": ".py",
   "mimetype": "text/x-python",
   "name": "python",
   "nbconvert_exporter": "python",
   "pygments_lexer": "ipython3",
   "version": "3.7.3"
  }
 },
 "nbformat": 4,
 "nbformat_minor": 2
}
