{
 "cells": [
  {
   "cell_type": "code",
   "execution_count": 1,
   "metadata": {},
   "outputs": [
    {
     "name": "stdout",
     "output_type": "stream",
     "text": [
      "\n",
      "************************How to Flatten a Matrix*************************\n",
      "\n",
      "[ 1  2  3 23  4  5  6 25  7  8  9 28 10 11 12 41]\n",
      "\n",
      "[2 3 4 5 6 9 7 8 1]\n"
     ]
    }
   ],
   "source": [
    "## How to Flatten a Matrix\n",
    "def Flattening_matrix():\n",
    "    print()\n",
    "    print(format('How to Flatten a Matrix', '*^72'))\n",
    "\n",
    "    #load library\n",
    "    import numpy as np\n",
    "\n",
    "    # Create matrix\n",
    "    matrixA = np.array([[1, 2, 3, 23],\n",
    "                       [4, 5, 6, 25],\n",
    "                       [7, 8, 9, 28],\n",
    "                       [10, 11, 12, 41]])\n",
    "\n",
    "    matrixB = np.array([[2, 3, 4],\n",
    "                       [5, 6, 9],\n",
    "                       [7, 8, 1]])\n",
    "\n",
    "    # Return a flatten matrix\n",
    "    print(); print(matrixA.flatten())\n",
    "    print(); print(matrixB.flatten())\n",
    "Flattening_matrix()"
   ]
  },
  {
   "cell_type": "code",
   "execution_count": null,
   "metadata": {},
   "outputs": [],
   "source": []
  }
 ],
 "metadata": {
  "kernelspec": {
   "display_name": "Python 3",
   "language": "python",
   "name": "python3"
  },
  "language_info": {
   "codemirror_mode": {
    "name": "ipython",
    "version": 3
   },
   "file_extension": ".py",
   "mimetype": "text/x-python",
   "name": "python",
   "nbconvert_exporter": "python",
   "pygments_lexer": "ipython3",
   "version": "3.7.3"
  }
 },
 "nbformat": 4,
 "nbformat_minor": 2
}
