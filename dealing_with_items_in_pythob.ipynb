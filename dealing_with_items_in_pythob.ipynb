{
 "cells": [
  {
   "cell_type": "code",
   "execution_count": 1,
   "metadata": {},
   "outputs": [
    {
     "name": "stdout",
     "output_type": "stream",
     "text": [
      "\n",
      "*******************How to deal with an Item in a List in Python*******************\n",
      "\n",
      "[582, 193, 492, 1020, 913, 299, 474, 337, 344]\n",
      "\n",
      "[492, 103, 402, 930, 823, 209, 384, 247, 254]\n",
      "\n",
      "[582, 193, 492, 1020, 913, 299, 474, 337, 344]\n"
     ]
    }
   ],
   "source": [
    "## How to deal with an Item in a List in Python \n",
    "def deal_with_item_list():\n",
    "    print()\n",
    "    print(format('How to deal with an Item in a List in Python','*^82'))\n",
    "    import warnings\n",
    "    warnings.filterwarnings(\"ignore\")\n",
    "\n",
    "    # Create a list of sales\n",
    "    Sales = [482, 93, 392, 920, 813, 199, 374, 237, 244]\n",
    "\n",
    "    def updated(x): return x + 100\n",
    "    print(); print(list(map(updated, Sales)))\n",
    "\n",
    "    salesUpdated = []\n",
    "    for x in Sales:\n",
    "        salesUpdated.append(x + 10)\n",
    "    print(); print(salesUpdated)\n",
    "\n",
    "    print(); print(list(map((lambda x: x + 100), Sales)))\n",
    "deal_with_item_list()"
   ]
  },
  {
   "cell_type": "code",
   "execution_count": null,
   "metadata": {},
   "outputs": [],
   "source": []
  }
 ],
 "metadata": {
  "kernelspec": {
   "display_name": "Python 3",
   "language": "python",
   "name": "python3"
  },
  "language_info": {
   "codemirror_mode": {
    "name": "ipython",
    "version": 3
   },
   "file_extension": ".py",
   "mimetype": "text/x-python",
   "name": "python",
   "nbconvert_exporter": "python",
   "pygments_lexer": "ipython3",
   "version": "3.7.3"
  }
 },
 "nbformat": 4,
 "nbformat_minor": 2
}
