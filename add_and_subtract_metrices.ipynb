{
 "cells": [
  {
   "cell_type": "code",
   "execution_count": 1,
   "metadata": {},
   "outputs": [
    {
     "name": "stdout",
     "output_type": "stream",
     "text": [
      "\n",
      "****************How to add and subtract between matrices****************\n",
      "\n",
      "[[ 3  5 26]\n",
      " [ 9 11 31]\n",
      " [15 17 37]]\n",
      "\n",
      "[[ 1  1 20]\n",
      " [ 1  1 19]\n",
      " [ 1  1 19]]\n"
     ]
    }
   ],
   "source": [
    "## How to add and subtract between matrices\n",
    "def add_subtract_metrices():\n",
    "    print()\n",
    "    print(format('How to add and subtract between matrices', '*^72'))\n",
    "\n",
    "    # Load library\n",
    "    import numpy as np\n",
    "\n",
    "    # Create two vectors\n",
    "    matrixA = np.array([[2, 3, 23],\n",
    "                       [5, 6, 25],\n",
    "                       [8, 9, 28]])\n",
    "    matrixB = np.array([[1, 2, 3],\n",
    "                       [4, 5, 6],\n",
    "                       [7, 8, 9]])\n",
    "    # Add two matrices\n",
    "    print(); print(np.add(matrixA, matrixB))\n",
    "\n",
    "    # Subtract two matrices\n",
    "    print(); print(np.subtract(matrixA, matrixB))\n",
    "\n",
    "add_subtract_metrices()"
   ]
  },
  {
   "cell_type": "code",
   "execution_count": null,
   "metadata": {},
   "outputs": [],
   "source": []
  }
 ],
 "metadata": {
  "kernelspec": {
   "display_name": "Python 3",
   "language": "python",
   "name": "python3"
  },
  "language_info": {
   "codemirror_mode": {
    "name": "ipython",
    "version": 3
   },
   "file_extension": ".py",
   "mimetype": "text/x-python",
   "name": "python",
   "nbconvert_exporter": "python",
   "pygments_lexer": "ipython3",
   "version": "3.7.3"
  }
 },
 "nbformat": 4,
 "nbformat_minor": 2
}
