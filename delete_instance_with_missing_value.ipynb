{
 "cells": [
  {
   "cell_type": "code",
   "execution_count": 1,
   "metadata": {},
   "outputs": [
    {
     "name": "stdout",
     "output_type": "stream",
     "text": [
      "\n",
      "**************How to delete instances with missing values in Python***************\n",
      "\n",
      "[[ 1.1 11.1]\n",
      " [ 2.2 22.2]\n",
      " [ 3.3 33.3]\n",
      " [ 4.4 44.4]]\n"
     ]
    }
   ],
   "source": [
    "## How to delete instances with missing values in Python \n",
    "def delteting_instance_with_missing_value():\n",
    "    print()\n",
    "    print(format('How to delete instances with missing values in Python', '*^82'))\n",
    "\n",
    "    import warnings\n",
    "    warnings.filterwarnings(\"ignore\")\n",
    "\n",
    "    # Load libraries\n",
    "    import numpy as np\n",
    "\n",
    "    # Create feature matrix\n",
    "    X = np.array([[1.1, 11.1],\n",
    "                  [2.2, 22.2],\n",
    "                  [3.3, 33.3],\n",
    "                  [4.4, 44.4],\n",
    "                  [np.nan, 55]])\n",
    "\n",
    "    # Remove observations with missing values\n",
    "    X = X[~np.isnan(X).any(axis=1)]\n",
    "    print(); print(X)\n",
    "\n",
    "delteting_instance_with_missing_value()"
   ]
  },
  {
   "cell_type": "code",
   "execution_count": null,
   "metadata": {},
   "outputs": [],
   "source": []
  }
 ],
 "metadata": {
  "kernelspec": {
   "display_name": "Python 3",
   "language": "python",
   "name": "python3"
  },
  "language_info": {
   "codemirror_mode": {
    "name": "ipython",
    "version": 3
   },
   "file_extension": ".py",
   "mimetype": "text/x-python",
   "name": "python",
   "nbconvert_exporter": "python",
   "pygments_lexer": "ipython3",
   "version": "3.7.3"
  }
 },
 "nbformat": 4,
 "nbformat_minor": 2
}
