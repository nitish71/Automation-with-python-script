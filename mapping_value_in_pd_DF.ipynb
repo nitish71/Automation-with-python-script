{
 "cells": [
  {
   "cell_type": "code",
   "execution_count": 1,
   "metadata": {},
   "outputs": [
    {
     "name": "stdout",
     "output_type": "stream",
     "text": [
      "\n",
      "*********************How to map values in a Pandas DataFrame**********************\n",
      "\n",
      "  first_name last_name  age           city\n",
      "0      Jason    Miller   42  San Francisco\n",
      "1      Molly  Jacobson   52      Baltimore\n",
      "2       Tina       Ali   36          Miami\n",
      "3       Jake    Milner   24        Douglas\n",
      "4        Amy     Cooze   73         Boston\n",
      "\n",
      "{'San Francisco': 'California', 'Baltimore': 'Maryland', 'Miami': 'Florida', 'Douglas': 'Arizona', 'Boston': 'Massachusetts'}\n",
      "\n",
      "  first_name last_name  age           city          state\n",
      "0      Jason    Miller   42  San Francisco     California\n",
      "1      Molly  Jacobson   52      Baltimore       Maryland\n",
      "2       Tina       Ali   36          Miami        Florida\n",
      "3       Jake    Milner   24        Douglas        Arizona\n",
      "4        Amy     Cooze   73         Boston  Massachusetts\n"
     ]
    }
   ],
   "source": [
    "## How to map values in a Pandas DataFrame\n",
    "def mapping_value_pd_DF():\n",
    "    print()\n",
    "    print(format('How to map values in a Pandas DataFrame','*^82'))\n",
    "\n",
    "    import warnings\n",
    "    warnings.filterwarnings(\"ignore\")\n",
    "\n",
    "    # load libraries\n",
    "    import pandas as pd\n",
    "\n",
    "    # Create dataframe\n",
    "    raw_data = {'first_name': ['Jason', 'Molly', 'Tina', 'Jake', 'Amy'],\n",
    "                'last_name': ['Miller', 'Jacobson', 'Ali', 'Milner', 'Cooze'],\n",
    "                'age': [42, 52, 36, 24, 73],\n",
    "                'city': ['San Francisco', 'Baltimore', 'Miami', 'Douglas', 'Boston']}\n",
    "    df = pd.DataFrame(raw_data, columns = ['first_name', 'last_name', 'age', 'city'])\n",
    "    print(); print(df)\n",
    "\n",
    "    # Create a dictionary of values\n",
    "    city_to_state = {'San Francisco' : 'California',\n",
    "                     'Baltimore' : 'Maryland',\n",
    "                     'Miami' : 'Florida',\n",
    "                     'Douglas' : 'Arizona',\n",
    "                     'Boston' : 'Massachusetts'}\n",
    "    print(); print(city_to_state)\n",
    "\n",
    "    # Map the values of the city_to_state dictionary to the values in the city variable\n",
    "    df['state'] = df['city'].map(city_to_state)\n",
    "    print(); print(df)\n",
    "\n",
    "mapping_value_pd_DF()"
   ]
  },
  {
   "cell_type": "code",
   "execution_count": null,
   "metadata": {},
   "outputs": [],
   "source": []
  }
 ],
 "metadata": {
  "kernelspec": {
   "display_name": "Python 3",
   "language": "python",
   "name": "python3"
  },
  "language_info": {
   "codemirror_mode": {
    "name": "ipython",
    "version": 3
   },
   "file_extension": ".py",
   "mimetype": "text/x-python",
   "name": "python",
   "nbconvert_exporter": "python",
   "pygments_lexer": "ipython3",
   "version": "3.7.3"
  }
 },
 "nbformat": 4,
 "nbformat_minor": 2
}
