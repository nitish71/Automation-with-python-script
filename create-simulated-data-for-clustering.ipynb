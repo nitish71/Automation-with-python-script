{
 "cells": [
  {
   "cell_type": "code",
   "execution_count": 1,
   "metadata": {},
   "outputs": [
    {
     "name": "stdout",
     "output_type": "stream",
     "text": [
      "\n",
      "**************How to Create simulated data for clustering in Python***************\n",
      "\n",
      "Feature Matrix: \n",
      "   Feature 1  Feature 2  Feature 3  Feature 4  Feature 5  Feature 6  \\\n",
      "0  -9.246729   7.458082   1.421380   1.961360   1.342258   6.236215   \n",
      "1  -9.536647   7.226459   1.461258   2.084234   1.659590   5.943038   \n",
      "2  -3.024974  -5.197633   7.069604  -7.803740  -0.623263   5.264497   \n",
      "3  -9.780236   6.496887   1.801148   2.250557   0.867704   5.791889   \n",
      "4  -7.840417  -9.122075  -3.880965   7.471963  -5.288801  -8.581633   \n",
      "\n",
      "   Feature 7  Feature 8  Feature 9  Feature 10  \n",
      "0  -8.013518  -5.799592   1.403936   -8.782922  \n",
      "1  -8.166809  -6.451278   1.806098   -8.220808  \n",
      "2  -1.496486  -8.479645  -8.545441   -5.573164  \n",
      "3  -8.337176  -5.773210   1.028309   -8.625817  \n",
      "4   9.362034  -5.436750  -0.893435   -4.415063  \n"
     ]
    },
    {
     "data": {
      "text/plain": [
       "<Figure size 640x480 with 1 Axes>"
      ]
     },
     "metadata": {},
     "output_type": "display_data"
    }
   ],
   "source": [
    "## How to Create simulated data for clustering in Python \n",
    "def simulated_data_for_clustering():\n",
    "    print()\n",
    "    print(format('How to Create simulated data for clustering in Python', '*^82'))\n",
    "\n",
    "    # Load libraries\n",
    "    from sklearn.datasets import make_blobs\n",
    "    import matplotlib.pyplot as plt\n",
    "    import pandas as pd\n",
    "\n",
    "    # Make the features (X) and output (y) with 200 samples,\n",
    "    features, clusters = make_blobs(n_samples = 2000,\n",
    "                  n_features = 10, centers = 5,\n",
    "                  # with .5 cluster standard deviation,\n",
    "                  cluster_std = 0.4,\n",
    "                  shuffle = True)\n",
    "\n",
    "    # View the first five observations and their 10 features\n",
    "    print()\n",
    "    print(\"Feature Matrix: \");\n",
    "    print(pd.DataFrame(features, columns=['Feature 1', 'Feature 2', 'Feature 3',\n",
    "         'Feature 4', 'Feature 5', 'Feature 6', 'Feature 7', 'Feature 8',\n",
    "         'Feature 9', 'Feature 10']).head())\n",
    "\n",
    "    # Create a scatterplot of the first and second features\n",
    "    plt.scatter(features[:,0], features[:,1])\n",
    "\n",
    "    # Show the scatterplot\n",
    "    plt.show()\n",
    "\n",
    "simulated_data_for_clustering()"
   ]
  },
  {
   "cell_type": "code",
   "execution_count": null,
   "metadata": {},
   "outputs": [],
   "source": []
  }
 ],
 "metadata": {
  "kernelspec": {
   "display_name": "Python 3",
   "language": "python",
   "name": "python3"
  },
  "language_info": {
   "codemirror_mode": {
    "name": "ipython",
    "version": 3
   },
   "file_extension": ".py",
   "mimetype": "text/x-python",
   "name": "python",
   "nbconvert_exporter": "python",
   "pygments_lexer": "ipython3",
   "version": "3.7.3"
  }
 },
 "nbformat": 4,
 "nbformat_minor": 2
}
