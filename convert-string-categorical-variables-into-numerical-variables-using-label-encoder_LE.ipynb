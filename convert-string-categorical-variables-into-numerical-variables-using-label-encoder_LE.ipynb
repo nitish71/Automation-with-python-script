{
 "cells": [
  {
   "cell_type": "code",
   "execution_count": 2,
   "metadata": {},
   "outputs": [
    {
     "name": "stdout",
     "output_type": "stream",
     "text": [
      "\n",
      "*******How to convert strings into numerical variables using Label Encoder********\n",
      "\n",
      "   patient  obs  treatment   score\n",
      "0        1    1          0  strong\n",
      "1        1    2          1    weak\n",
      "2        1    3          0  normal\n",
      "3        2    1          1    weak\n",
      "4        2    2          0  strong\n",
      "\n",
      "   patient  obs  treatment  score\n",
      "0        1    1          0      1\n",
      "1        1    2          1      2\n",
      "2        1    3          0      0\n",
      "3        2    1          1      2\n",
      "4        2    2          0      1\n"
     ]
    }
   ],
   "source": [
    "## How to convert string categorical variables into numerical variables using Label Encoder\n",
    "def convert_string_to_numerical_LE():\n",
    "    print()\n",
    "    print(format('How to convert strings into numerical variables using Label Encoder','*^82'))\n",
    "\n",
    "    import warnings\n",
    "    warnings.filterwarnings(\"ignore\")\n",
    "\n",
    "    # load libraries\n",
    "    import pandas as pd\n",
    "    from sklearn.preprocessing import LabelEncoder\n",
    "\n",
    "    # Create dataframe\n",
    "    raw_data = {'patient': [1, 1, 1, 2, 2],\n",
    "                'obs': [1, 2, 3, 1, 2],\n",
    "                'treatment': [0, 1, 0, 1, 0],\n",
    "                'score': ['strong', 'weak', 'normal', 'weak', 'strong']}\n",
    "\n",
    "    df = pd.DataFrame(raw_data, columns = ['patient', 'obs', 'treatment', 'score'])\n",
    "    print(); print(df)\n",
    "\n",
    "    # Create a function that converts all values of df['score'] into numbers\n",
    "    def dummyEncode(df):\n",
    "          columnsToEncode = list(df.select_dtypes(include=['category','object']))\n",
    "          le = LabelEncoder()\n",
    "          for feature in columnsToEncode:\n",
    "              try:\n",
    "                  df[feature] = le.fit_transform(df[feature])\n",
    "              except:\n",
    "                  print('Error encoding '+feature)\n",
    "          return df\n",
    "    df = dummyEncode(df)\n",
    "\n",
    "    print(); print(df)\n",
    "\n",
    "convert_string_to_numerical_LE()"
   ]
  },
  {
   "cell_type": "code",
   "execution_count": null,
   "metadata": {},
   "outputs": [],
   "source": []
  }
 ],
 "metadata": {
  "kernelspec": {
   "display_name": "Python 3",
   "language": "python",
   "name": "python3"
  },
  "language_info": {
   "codemirror_mode": {
    "name": "ipython",
    "version": 3
   },
   "file_extension": ".py",
   "mimetype": "text/x-python",
   "name": "python",
   "nbconvert_exporter": "python",
   "pygments_lexer": "ipython3",
   "version": "3.7.3"
  }
 },
 "nbformat": 4,
 "nbformat_minor": 2
}
