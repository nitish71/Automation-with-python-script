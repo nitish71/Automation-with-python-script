{
 "cells": [
  {
   "cell_type": "code",
   "execution_count": 1,
   "metadata": {},
   "outputs": [
    {
     "name": "stdout",
     "output_type": "stream",
     "text": [
      "\n",
      "*******How to convert Categorical features to Numerical Features in Python********\n",
      "\n",
      "['normal', 'strong', 'weak']\n",
      "\n",
      "[1 2 0 2 1]\n",
      "\n",
      "['weak', 'weak', 'strong', 'normal', 'strong', 'weak']\n"
     ]
    }
   ],
   "source": [
    "\n",
    "## How to convert Categorical features to Numerical Features in Python \n",
    "def CF_to_NF():\n",
    "    print()\n",
    "    print(format('How to convert Categorical features to Numerical Features in Python',\n",
    "                 '*^82'))\n",
    "    import warnings\n",
    "    warnings.filterwarnings(\"ignore\")\n",
    "\n",
    "    # Load libraries\n",
    "    from sklearn import preprocessing\n",
    "    import pandas as pd\n",
    "\n",
    "    #Create DataFrame\n",
    "    raw_data = {'patient': [1, 1, 1, 2, 2],\n",
    "                'obs': [1, 2, 3, 1, 2],\n",
    "                'treatment': [0, 1, 0, 1, 0],\n",
    "                'score': ['strong', 'weak', 'normal', 'weak', 'strong']}\n",
    "    df = pd.DataFrame(raw_data, columns = ['patient', 'obs', 'treatment', 'score'])\n",
    "\n",
    "    # Fit The Label Encoder\n",
    "    # Create a label (category) encoder object\n",
    "    le = preprocessing.LabelEncoder()\n",
    "\n",
    "    # Fit the encoder to the pandas column\n",
    "    le.fit(df['score'])\n",
    "\n",
    "    # View The Labels\n",
    "    print(); print(list(le.classes_))\n",
    "\n",
    "    # Transform Categories Into Integers\n",
    "    # Apply the fitted encoder to the pandas column\n",
    "    print(); print(le.transform(df['score']))\n",
    "\n",
    "    # Transform Integers Into Categories\n",
    "    # Convert some integers into their category names\n",
    "    print(); print(list(le.inverse_transform([2, 2, 1, 0, 1, 2])))\n",
    "\n",
    "CF_to_NF()"
   ]
  },
  {
   "cell_type": "code",
   "execution_count": null,
   "metadata": {},
   "outputs": [],
   "source": []
  }
 ],
 "metadata": {
  "kernelspec": {
   "display_name": "Python 3",
   "language": "python",
   "name": "python3"
  },
  "language_info": {
   "codemirror_mode": {
    "name": "ipython",
    "version": 3
   },
   "file_extension": ".py",
   "mimetype": "text/x-python",
   "name": "python",
   "nbconvert_exporter": "python",
   "pygments_lexer": "ipython3",
   "version": "3.7.3"
  }
 },
 "nbformat": 4,
 "nbformat_minor": 2
}
