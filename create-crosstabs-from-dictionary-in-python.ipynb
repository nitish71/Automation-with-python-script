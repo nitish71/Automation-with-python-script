{
 "cells": [
  {
   "cell_type": "code",
   "execution_count": 1,
   "metadata": {},
   "outputs": [
    {
     "name": "stdout",
     "output_type": "stream",
     "text": [
      "\n",
      "***************How to create crosstabs from a Dictionary in Python****************\n",
      "\n",
      "      regiment   company experience      name  preTestScore  postTestScore\n",
      "0   Nighthawks  infantry    veteran    Miller             4             25\n",
      "1   Nighthawks  infantry     rookie  Jacobson            24             94\n",
      "2   Nighthawks   cavalry    veteran       Ali            31             57\n",
      "3   Nighthawks   cavalry     rookie    Milner             2             62\n",
      "4     Dragoons  infantry    veteran     Cooze             3             70\n",
      "5     Dragoons  infantry     rookie     Jacon             4             25\n",
      "6     Dragoons   cavalry    veteran    Ryaner            24             94\n",
      "7     Dragoons   cavalry     rookie      Sone            31             57\n",
      "8       Scouts  infantry    veteran     Sloan             2             62\n",
      "9       Scouts  infantry     rookie     Piger             3             70\n",
      "10      Scouts   cavalry    veteran     Riani             2             62\n",
      "11      Scouts   cavalry     rookie       Ali             3             70\n",
      "\n",
      "company     cavalry  infantry  All\n",
      "regiment                          \n",
      "Dragoons          2         2    4\n",
      "Nighthawks        2         2    4\n",
      "Scouts            2         2    4\n",
      "All               6         6   12\n",
      "\n",
      "regiment             Dragoons  Nighthawks  Scouts  All\n",
      "company  experience                                   \n",
      "cavalry  rookie             1           1       1    3\n",
      "         veteran            1           1       1    3\n",
      "infantry rookie             1           1       1    3\n",
      "         veteran            1           1       1    3\n",
      "All                         4           4       4   12\n",
      "\n",
      "regiment                          Dragoons  Nighthawks  Scouts  All\n",
      "company  experience preTestScore                                   \n",
      "cavalry  rookie     2                    0           1       0    1\n",
      "                    3                    0           0       1    1\n",
      "                    31                   1           0       0    1\n",
      "         veteran    2                    0           0       1    1\n",
      "                    24                   1           0       0    1\n",
      "                    31                   0           1       0    1\n",
      "infantry rookie     3                    0           0       1    1\n",
      "                    4                    1           0       0    1\n",
      "                    24                   0           1       0    1\n",
      "         veteran    2                    0           0       1    1\n",
      "                    3                    1           0       0    1\n",
      "                    4                    0           1       0    1\n",
      "All                                      4           4       4   12\n"
     ]
    }
   ],
   "source": [
    "## How to create crosstabs from a Dictionary in Python\n",
    "def create_crosstabs_from_dictionary():\n",
    "    print()\n",
    "    print(format('How to create crosstabs from a Dictionary in Python','*^82'))\n",
    "\n",
    "    import warnings\n",
    "    warnings.filterwarnings(\"ignore\")\n",
    "\n",
    "    # load libraries\n",
    "    import pandas as pd\n",
    "    raw_data = {'regiment': ['Nighthawks', 'Nighthawks', 'Nighthawks', 'Nighthawks', 'Dragoons', 'Dragoons', 'Dragoons', 'Dragoons', 'Scouts', 'Scouts', 'Scouts', 'Scouts'],\n",
    "                'company': ['infantry', 'infantry', 'cavalry', 'cavalry', 'infantry', 'infantry', 'cavalry', 'cavalry','infantry', 'infantry', 'cavalry', 'cavalry'],\n",
    "                'experience': ['veteran', 'rookie', 'veteran', 'rookie', 'veteran', 'rookie', 'veteran', 'rookie','veteran', 'rookie', 'veteran', 'rookie'],\n",
    "                'name': ['Miller', 'Jacobson', 'Ali', 'Milner', 'Cooze', 'Jacon', 'Ryaner', 'Sone', 'Sloan', 'Piger', 'Riani', 'Ali'],\n",
    "                'preTestScore': [4, 24, 31, 2, 3, 4, 24, 31, 2, 3, 2, 3],\n",
    "                'postTestScore': [25, 94, 57, 62, 70, 25, 94, 57, 62, 70, 62, 70]}\n",
    "\n",
    "    df = pd.DataFrame(raw_data, columns = ['regiment', 'company', 'experience', 'name', 'preTestScore', 'postTestScore'])\n",
    "    print(); print(df)\n",
    "\n",
    "    # Create a crosstab table by company and regiment\n",
    "    df1 = pd.crosstab(df.regiment, df.company, margins=True)\n",
    "    print(); print(df1)\n",
    "\n",
    "    # Create more crosstabs\n",
    "    df2 = pd.crosstab([df.company, df.experience], df.regiment,  margins=True)\n",
    "    print(); print(df2)\n",
    "\n",
    "    df3 = pd.crosstab([df.company, df.experience, df.preTestScore], df.regiment,  margins=True)\n",
    "    print(); print(df3)\n",
    "\n",
    "create_crosstabs_from_dictionary()"
   ]
  },
  {
   "cell_type": "code",
   "execution_count": null,
   "metadata": {},
   "outputs": [],
   "source": []
  }
 ],
 "metadata": {
  "kernelspec": {
   "display_name": "Python 3",
   "language": "python",
   "name": "python3"
  },
  "language_info": {
   "codemirror_mode": {
    "name": "ipython",
    "version": 3
   },
   "file_extension": ".py",
   "mimetype": "text/x-python",
   "name": "python",
   "nbconvert_exporter": "python",
   "pygments_lexer": "ipython3",
   "version": "3.7.3"
  }
 },
 "nbformat": 4,
 "nbformat_minor": 2
}
