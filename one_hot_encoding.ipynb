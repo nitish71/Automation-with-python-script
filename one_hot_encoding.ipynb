{
 "cells": [
  {
   "cell_type": "code",
   "execution_count": 1,
   "metadata": {},
   "outputs": [
    {
     "name": "stdout",
     "output_type": "stream",
     "text": [
      "\n",
      "********How to One hot Encode with nominal categorical features in Python*********\n",
      "\n",
      "[[0 0 1]\n",
      " [1 0 0]\n",
      " [0 0 1]\n",
      " [0 1 0]\n",
      " [0 0 1]]\n",
      "\n",
      "['California' 'Delaware' 'Texas']\n"
     ]
    }
   ],
   "source": [
    "## One hot Encoding with nominal categorical features in Python \n",
    "def one_hot_encoding():\n",
    "    print()\n",
    "    print(format('How to One hot Encode with nominal categorical features in Python', '*^82'))\n",
    "\n",
    "    import warnings\n",
    "    warnings.filterwarnings(\"ignore\")\n",
    "\n",
    "    # Load libraries\n",
    "    import numpy as np\n",
    "    from sklearn.preprocessing import LabelBinarizer\n",
    "\n",
    "    # Create Data With One Class Label\n",
    "    # Create NumPy array\n",
    "    x = np.array([['Texas'],\n",
    "                  ['California'],\n",
    "                  ['Texas'],\n",
    "                  ['Delaware'],\n",
    "                  ['Texas']])\n",
    "\n",
    "    # One-hot Encode Data (Method 1)\n",
    "\n",
    "    # Create LabelBinzarizer object\n",
    "    one_hot = LabelBinarizer()\n",
    "\n",
    "    # One-hot encode data\n",
    "    print(); print(one_hot.fit_transform(x))\n",
    "\n",
    "    # View Column Headers\n",
    "    # View classes\n",
    "    print(); print(one_hot.classes_)\n",
    "\n",
    "one_hot_encoding()"
   ]
  },
  {
   "cell_type": "code",
   "execution_count": null,
   "metadata": {},
   "outputs": [],
   "source": []
  }
 ],
 "metadata": {
  "kernelspec": {
   "display_name": "Python 3",
   "language": "python",
   "name": "python3"
  },
  "language_info": {
   "codemirror_mode": {
    "name": "ipython",
    "version": 3
   },
   "file_extension": ".py",
   "mimetype": "text/x-python",
   "name": "python",
   "nbconvert_exporter": "python",
   "pygments_lexer": "ipython3",
   "version": "3.7.3"
  }
 },
 "nbformat": 4,
 "nbformat_minor": 2
}
