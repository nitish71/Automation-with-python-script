{
 "cells": [
  {
   "cell_type": "code",
   "execution_count": 1,
   "metadata": {},
   "outputs": [
    {
     "name": "stdout",
     "output_type": "stream",
     "text": [
      "\n",
      "*****************How to calculate Diagonal of a Matrix******************\n",
      "\n",
      "[ 1  5  9 41]\n",
      "\n",
      "56\n"
     ]
    }
   ],
   "source": [
    "# How to calculate Diagonal of a Matrix\n",
    "def diagonal_of_matrix():\n",
    "    print()\n",
    "    print(format('How to calculate Diagonal of a Matrix', '*^72'))\n",
    "    # Load library\n",
    "    import numpy as np\n",
    "    # Create matrix\n",
    "    matrix = np.array([[1, 2, 3, 23],\n",
    "                       [4, 5, 6, 25],\n",
    "                       [7, 8, 9, 28],\n",
    "                       [10, 11, 12, 41]])\n",
    "    # Return diagonal elements\n",
    "    print()\n",
    "    print(matrix.diagonal())\n",
    "    # Calculate the tracre of the matrix\n",
    "    print()\n",
    "    print(matrix.diagonal().sum())\n",
    "diagonal_of_matrix()"
   ]
  },
  {
   "cell_type": "code",
   "execution_count": null,
   "metadata": {},
   "outputs": [],
   "source": []
  }
 ],
 "metadata": {
  "kernelspec": {
   "display_name": "Python 3",
   "language": "python",
   "name": "python3"
  },
  "language_info": {
   "codemirror_mode": {
    "name": "ipython",
    "version": 3
   },
   "file_extension": ".py",
   "mimetype": "text/x-python",
   "name": "python",
   "nbconvert_exporter": "python",
   "pygments_lexer": "ipython3",
   "version": "3.7.3"
  }
 },
 "nbformat": 4,
 "nbformat_minor": 2
}
