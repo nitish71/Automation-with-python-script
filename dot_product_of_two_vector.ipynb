{
 "cells": [
  {
   "cell_type": "code",
   "execution_count": 1,
   "metadata": {},
   "outputs": [
    {
     "name": "stdout",
     "output_type": "stream",
     "text": [
      "\n",
      "**************How to calculate dot product of two vectors***************\n",
      "\n",
      "32\n",
      "\n",
      "32\n"
     ]
    }
   ],
   "source": [
    "## How to calculate dot product of two vectors\n",
    "def opeartion_mtrices_dot():\n",
    "    print()\n",
    "    print(format('How to calculate dot product of two vectors','*^72'))\n",
    "\n",
    "    # Load library\n",
    "    import numpy as np\n",
    "\n",
    "    # Create two vectors\n",
    "    vectorA = np.array([1,2,3])\n",
    "    vectorB = np.array([4,5,6])\n",
    "\n",
    "    # Calculate Dot Product (Method 1)\n",
    "    print(); print(np.dot(vectorA, vectorB))\n",
    "\n",
    "    # Calculate Dot Product (Method 2)\n",
    "    print(); print(vectorA @ vectorB)\n",
    "\n",
    "opeartion_mtrices_dot()"
   ]
  },
  {
   "cell_type": "code",
   "execution_count": null,
   "metadata": {},
   "outputs": [],
   "source": []
  }
 ],
 "metadata": {
  "kernelspec": {
   "display_name": "Python 3",
   "language": "python",
   "name": "python3"
  },
  "language_info": {
   "codemirror_mode": {
    "name": "ipython",
    "version": 3
   },
   "file_extension": ".py",
   "mimetype": "text/x-python",
   "name": "python",
   "nbconvert_exporter": "python",
   "pygments_lexer": "ipython3",
   "version": "3.7.3"
  }
 },
 "nbformat": 4,
 "nbformat_minor": 2
}
