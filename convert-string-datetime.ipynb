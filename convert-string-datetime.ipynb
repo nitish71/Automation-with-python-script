{
 "cells": [
  {
   "cell_type": "code",
   "execution_count": 1,
   "metadata": {},
   "outputs": [
    {
     "name": "stdout",
     "output_type": "stream",
     "text": [
      "\n",
      "*******************How to convert STRING to DateTime in Python********************\n",
      "\n",
      "2012-03-03 00:00:00\n",
      "\n",
      "2012-03-03 00:00:00\n",
      "\n",
      "[datetime.datetime(2017, 7, 2, 0, 0), datetime.datetime(2016, 8, 6, 0, 0), datetime.datetime(2015, 11, 13, 0, 0), datetime.datetime(2014, 5, 26, 0, 0), datetime.datetime(2013, 5, 2, 0, 0)]\n",
      "\n",
      "2012-03-03 00:00:00\n",
      "date     object\n",
      "value     int64\n",
      "dtype: object\n",
      "\n",
      "0   2014-05-01 18:47:05.069722\n",
      "1   2014-05-01 18:47:05.119994\n",
      "2   2014-05-02 18:47:05.178768\n",
      "3   2014-05-02 18:47:05.230071\n",
      "4   2014-05-02 18:47:05.230071\n",
      "5   2014-05-02 18:47:05.280592\n",
      "6   2014-05-03 18:47:05.332662\n",
      "7   2014-05-03 18:47:05.385109\n",
      "8   2014-05-04 18:47:05.436523\n",
      "9   2014-05-04 18:47:05.486877\n",
      "Name: date, dtype: datetime64[ns]\n",
      "datetime64[ns]\n"
     ]
    }
   ],
   "source": [
    "## How to convert STRING to DateTime in Python\n",
    "def convert_string_to_datetime():\n",
    "    print()\n",
    "    print(format('How to convert STRING to DateTime in Python','*^82'))\n",
    "    import warnings\n",
    "    warnings.filterwarnings(\"ignore\")\n",
    "\n",
    "    # Load Libraries\n",
    "    from datetime import datetime\n",
    "    from dateutil.parser import parse\n",
    "    import pandas as pd\n",
    "    # Create a string variable with a datetime\n",
    "    date_start = '2012-03-03'\n",
    "    # Convert the string to datetime format\n",
    "    print()\n",
    "    print(datetime.strptime(date_start, '%Y-%m-%d'))\n",
    "    # Create a list of strings as dates\n",
    "    dates = ['7/2/2017', '8/6/2016', '11/13/2015', '5/26/2014', '5/2/2013']\n",
    "    # Use parse() to attempt to auto-convert common string formats\n",
    "    print()\n",
    "    print(parse(date_start))\n",
    "\n",
    "    print()\n",
    "    print([parse(x) for x in dates])\n",
    "    # Use parse, but designate that the day is first\n",
    "    print()\n",
    "    print(parse(date_start, dayfirst=True))\n",
    "\n",
    "    # Create a dataframe\n",
    "    data = {'date': ['2014-05-01 18:47:05.069722', '2014-05-01 18:47:05.119994',\n",
    "                     '2014-05-02 18:47:05.178768', '2014-05-02 18:47:05.230071',\n",
    "                     '2014-05-02 18:47:05.230071', '2014-05-02 18:47:05.280592',\n",
    "                     '2014-05-03 18:47:05.332662', '2014-05-03 18:47:05.385109',\n",
    "                     '2014-05-04 18:47:05.436523', '2014-05-04 18:47:05.486877'],\n",
    "            'value': [1, 1, 1, 1, 1, 1, 1, 1, 1, 1]}\n",
    "    df = pd.DataFrame(data, columns = ['date', 'value'])\n",
    "    print(df.dtypes)\n",
    "    # Convert df['date'] from string to datetime\n",
    "    print()\n",
    "    print(pd.to_datetime(df['date']))\n",
    "    print(pd.to_datetime(df['date']).dtypes)\n",
    "convert_string_to_datetime()"
   ]
  },
  {
   "cell_type": "code",
   "execution_count": null,
   "metadata": {},
   "outputs": [],
   "source": []
  }
 ],
 "metadata": {
  "kernelspec": {
   "display_name": "Python 3",
   "language": "python",
   "name": "python3"
  },
  "language_info": {
   "codemirror_mode": {
    "name": "ipython",
    "version": 3
   },
   "file_extension": ".py",
   "mimetype": "text/x-python",
   "name": "python",
   "nbconvert_exporter": "python",
   "pygments_lexer": "ipython3",
   "version": "3.7.3"
  }
 },
 "nbformat": 4,
 "nbformat_minor": 2
}
