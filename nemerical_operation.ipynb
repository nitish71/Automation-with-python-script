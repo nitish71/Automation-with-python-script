{
 "cells": [
  {
   "cell_type": "code",
   "execution_count": 1,
   "metadata": {},
   "outputs": [
    {
     "name": "stdout",
     "output_type": "stream",
     "text": [
      "\n",
      "***************How to do numerical operations in Python using Numpy***************\n",
      "\n",
      "[4352  233 3245  256 2394]\n",
      "\n",
      "2096.0\n",
      "\n",
      "10480\n",
      "\n",
      "233\n",
      "\n",
      "4352\n"
     ]
    }
   ],
   "source": [
    "# How to do numerical operations in Python using Numpy\n",
    "def numerical_opeartion():\n",
    "    print()\n",
    "    print(format('How to do numerical operations in Python using Numpy','*^82'))\n",
    "    import warnings\n",
    "    warnings.filterwarnings(\"ignore\")\n",
    "\n",
    "    # Load Libraries\n",
    "    import numpy as np\n",
    "    # Create an array\n",
    "    sales = np.array([4352, 233, 3245, 256, 2394])\n",
    "    print(); print(sales)\n",
    "\n",
    "    # Mean value of the array\n",
    "    print(); print(sales.mean())\n",
    "\n",
    "    # Total amount of deaths\n",
    "    print(); print(sales.sum())\n",
    "\n",
    "    # Smallest value in the array\n",
    "    print(); print(sales.min())\n",
    "\n",
    "    # Largest value in the array\n",
    "    print(); print(sales.max())\n",
    "\n",
    "numerical_opeartion()"
   ]
  },
  {
   "cell_type": "code",
   "execution_count": null,
   "metadata": {},
   "outputs": [],
   "source": []
  }
 ],
 "metadata": {
  "kernelspec": {
   "display_name": "Python 3",
   "language": "python",
   "name": "python3"
  },
  "language_info": {
   "codemirror_mode": {
    "name": "ipython",
    "version": 3
   },
   "file_extension": ".py",
   "mimetype": "text/x-python",
   "name": "python",
   "nbconvert_exporter": "python",
   "pygments_lexer": "ipython3",
   "version": "3.7.3"
  }
 },
 "nbformat": 4,
 "nbformat_minor": 2
}
