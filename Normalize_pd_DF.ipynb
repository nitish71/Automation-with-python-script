{
 "cells": [
  {
   "cell_type": "code",
   "execution_count": 1,
   "metadata": {},
   "outputs": [
    {
     "name": "stdout",
     "output_type": "stream",
     "text": [
      "\n",
      "********************How to Normalise a Pandas DataFrame Column********************\n",
      "\n",
      "   score\n",
      "0    234\n",
      "1     24\n",
      "2     14\n",
      "3     27\n",
      "4    -74\n",
      "5     46\n",
      "6     73\n",
      "7    -18\n",
      "8     59\n",
      "9    160\n",
      "\n",
      "[[234.]\n",
      " [ 24.]\n",
      " [ 14.]\n",
      " [ 27.]\n",
      " [-74.]\n",
      " [ 46.]\n",
      " [ 73.]\n",
      " [-18.]\n",
      " [ 59.]\n",
      " [160.]]\n",
      "\n",
      "          0\n",
      "0  1.000000\n",
      "1  0.318182\n",
      "2  0.285714\n",
      "3  0.327922\n",
      "4  0.000000\n",
      "5  0.389610\n",
      "6  0.477273\n",
      "7  0.181818\n",
      "8  0.431818\n",
      "9  0.759740\n"
     ]
    }
   ],
   "source": [
    "## How to Normalise a Pandas DataFrame Column\n",
    "def Normalize_pd_DF():\n",
    "    print()\n",
    "    print(format('How to Normalise a Pandas DataFrame Column','*^82'))\n",
    "\n",
    "    import warnings\n",
    "    warnings.filterwarnings(\"ignore\")\n",
    "\n",
    "    # load libraries\n",
    "    import pandas as pd\n",
    "    from sklearn import preprocessing\n",
    "\n",
    "    # Create an example dataframe with a column of unnormalized data\n",
    "    data = {'score': [234,24,14,27,-74,46,73,-18,59,160]}\n",
    "    df = pd.DataFrame(data)\n",
    "    print(); print(df)\n",
    "\n",
    "    # Normalize The Column\n",
    "    # Create x, where x the 'scores' column's values as floats\n",
    "    x = df[['score']].values.astype(float)\n",
    "    print(); print(x)\n",
    "\n",
    "    # Create a minimum and maximum processor object\n",
    "    min_max_scaler = preprocessing.MinMaxScaler()\n",
    "\n",
    "    # Create an object to transform the data to fit minmax processor\n",
    "    x_scaled = min_max_scaler.fit_transform(x)\n",
    "\n",
    "    # Run the normalizer on the dataframe\n",
    "    df_normalized = pd.DataFrame(x_scaled)\n",
    "\n",
    "    # View the dataframe\n",
    "    print(); print(df_normalized)\n",
    "\n",
    "Normalize_pd_DF()"
   ]
  },
  {
   "cell_type": "code",
   "execution_count": null,
   "metadata": {},
   "outputs": [],
   "source": []
  }
 ],
 "metadata": {
  "kernelspec": {
   "display_name": "Python 3",
   "language": "python",
   "name": "python3"
  },
  "language_info": {
   "codemirror_mode": {
    "name": "ipython",
    "version": 3
   },
   "file_extension": ".py",
   "mimetype": "text/x-python",
   "name": "python",
   "nbconvert_exporter": "python",
   "pygments_lexer": "ipython3",
   "version": "3.7.3"
  }
 },
 "nbformat": 4,
 "nbformat_minor": 2
}
