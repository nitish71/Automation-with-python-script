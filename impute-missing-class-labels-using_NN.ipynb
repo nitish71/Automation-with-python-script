{
 "cells": [
  {
   "cell_type": "code",
   "execution_count": 1,
   "metadata": {},
   "outputs": [
    {
     "name": "stdout",
     "output_type": "stream",
     "text": [
      "\n",
      "******How to impute missing class labels using nearest neighbours in Python*******\n",
      "\n",
      "[2. 1. 2. 1.]\n",
      "\n",
      "[[ 2.    0.87  1.31]\n",
      " [ 1.    0.37  1.91]\n",
      " [ 2.    0.54  1.27]\n",
      " [ 1.   -0.67 -0.22]]\n",
      "\n",
      "[[ 2.    0.87  1.31]\n",
      " [ 1.    0.37  1.91]\n",
      " [ 2.    0.54  1.27]\n",
      " [ 1.   -0.67 -0.22]\n",
      " [ 0.    2.1   1.45]\n",
      " [ 2.    1.18  1.33]\n",
      " [ 0.    1.22  1.27]\n",
      " [ 1.    1.32  1.97]\n",
      " [ 1.   -0.21 -1.19]]\n"
     ]
    }
   ],
   "source": [
    "## How to impute missing class labels using nearest neighbours in Python \n",
    "def Kickstarter_Example_28():\n",
    "    print()\n",
    "    print(format('How to impute missing class labels using nearest neighbours in Python', '*^82'))\n",
    "\n",
    "    import warnings\n",
    "    warnings.filterwarnings(\"ignore\")\n",
    "\n",
    "    # Load libraries\n",
    "    import numpy as np\n",
    "    from sklearn.neighbors import KNeighborsClassifier\n",
    "\n",
    "    # Create Feature Matrix\n",
    "    # Create feature matrix with categorical feature\n",
    "    X = np.array([[0, 2.10, 1.45],\n",
    "                  [2, 1.18, 1.33],\n",
    "                  [0, 1.22, 1.27],\n",
    "                  [1, 1.32, 1.97],\n",
    "                  [1, -0.21, -1.19]])\n",
    "\n",
    "    # Create Feature Matrix With Missing Values\n",
    "    # Create feature matrix with missing values in the categorical feature\n",
    "    X_with_nan = np.array([[np.nan, 0.87, 1.31],\n",
    "                           [np.nan, 0.37, 1.91],\n",
    "                           [np.nan, 0.54, 1.27],\n",
    "                           [np.nan, -0.67, -0.22]])\n",
    "\n",
    "    # Train k-Nearest Neighbor Classifier\n",
    "    clf = KNeighborsClassifier(3, weights='distance')\n",
    "    trained_model = clf.fit(X[:,1:], X[:,0])\n",
    "\n",
    "    # Predict missing values' class\n",
    "    imputed_values = trained_model.predict(X_with_nan[:,1:])\n",
    "    print(); print(imputed_values)\n",
    "\n",
    "    # Join column of predicted class with their other features\n",
    "    X_with_imputed = np.hstack((imputed_values.reshape(-1,1), X_with_nan[:,1:]))\n",
    "    print(); print(X_with_imputed)\n",
    "\n",
    "    # Join two feature matrices\n",
    "    print(); print(np.vstack((X_with_imputed, X)))\n",
    "\n",
    "Kickstarter_Example_28()"
   ]
  },
  {
   "cell_type": "code",
   "execution_count": null,
   "metadata": {},
   "outputs": [],
   "source": []
  }
 ],
 "metadata": {
  "kernelspec": {
   "display_name": "Python 3",
   "language": "python",
   "name": "python3"
  },
  "language_info": {
   "codemirror_mode": {
    "name": "ipython",
    "version": 3
   },
   "file_extension": ".py",
   "mimetype": "text/x-python",
   "name": "python",
   "nbconvert_exporter": "python",
   "pygments_lexer": "ipython3",
   "version": "3.7.3"
  }
 },
 "nbformat": 4,
 "nbformat_minor": 2
}
