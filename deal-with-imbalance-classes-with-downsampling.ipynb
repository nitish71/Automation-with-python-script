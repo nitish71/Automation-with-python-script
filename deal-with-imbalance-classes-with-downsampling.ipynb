{
 "cells": [
  {
   "cell_type": "code",
   "execution_count": 1,
   "metadata": {},
   "outputs": [
    {
     "name": "stdout",
     "output_type": "stream",
     "text": [
      "\n",
      "**********How to deal with imbalance classes with downsampling in Python**********\n",
      "\n",
      "Look at the imbalanced target vector:\n",
      " [0 0 0 0 0 0 0 0 0 0 1 1 1 1 1 1 1 1 1 1 1 1 1 1 1 1 1 1 1 1 1 1 1 1 1 1 1\n",
      " 1 1 1 1 1 1 1 1 1 1 1 1 1 1 1 1 1 1 1 1 1 1 1 1 1 1 1 1 1 1 1 1 1 1 1 1 1\n",
      " 1 1 1 1 1 1 1 1 1 1 1 1 1 1 1 1 1 1 1 1 1 1 1 1 1 1 1 1 1 1 1 1 1 1 1 1]\n",
      "\n",
      "n_class0:  10\n",
      "\n",
      "n_class1:  100\n",
      "\n",
      "[0 0 0 0 0 0 0 0 0 0 1 1 1 1 1 1 1 1 1 1]\n"
     ]
    }
   ],
   "source": [
    "## How to deal with imbalance classes with downsampling in Python \n",
    "def imbalance_classes_with_downsampling():\n",
    "    print()\n",
    "    print(format('How to deal with imbalance classes with downsampling in Python', '*^82'))\n",
    "\n",
    "    import warnings\n",
    "    warnings.filterwarnings(\"ignore\")\n",
    "\n",
    "    # Load libraries\n",
    "    import numpy as np\n",
    "    from sklearn.datasets import load_iris\n",
    "\n",
    "    # Load iris data\n",
    "    iris = load_iris()\n",
    "\n",
    "    # Create feature matrix\n",
    "    X = iris.data\n",
    "\n",
    "    # Create target vector\n",
    "    y = iris.target\n",
    "\n",
    "    # Make Iris Dataset Imbalanced # Remove first 40 observations\n",
    "    X = X[40:,:]\n",
    "    y = y[40:]\n",
    "\n",
    "    # Create binary target vector indicating if class 0\n",
    "    y = np.where((y == 0), 0, 1)\n",
    "\n",
    "    # Look at the imbalanced target vector\n",
    "    print(); print(\"Look at the imbalanced target vector:\\n\", y)\n",
    "\n",
    "    # Downsample Majority Class To Match Minority Class\n",
    "    # Indicies of each class' observations\n",
    "    i_class0 = np.where(y == 0)[0]\n",
    "    i_class1 = np.where(y == 1)[0]\n",
    "\n",
    "    # Number of observations in each class\n",
    "    n_class0 = len(i_class0); print(); print(\"n_class0: \", n_class0)\n",
    "    n_class1 = len(i_class1); print(); print(\"n_class1: \", n_class1)\n",
    "\n",
    "    # For every observation of class 0, randomly sample from class 1 without replacement\n",
    "    i_class1_downsampled = np.random.choice(i_class1, size=n_class0, replace=False)\n",
    "\n",
    "    # Join together class 0's target vector with the downsampled class 1's target vector\n",
    "    print(); print(np.hstack((y[i_class0], y[i_class1_downsampled])))\n",
    "\n",
    "imbalance_classes_with_downsampling()"
   ]
  },
  {
   "cell_type": "code",
   "execution_count": null,
   "metadata": {},
   "outputs": [],
   "source": []
  }
 ],
 "metadata": {
  "kernelspec": {
   "display_name": "Python 3",
   "language": "python",
   "name": "python3"
  },
  "language_info": {
   "codemirror_mode": {
    "name": "ipython",
    "version": 3
   },
   "file_extension": ".py",
   "mimetype": "text/x-python",
   "name": "python",
   "nbconvert_exporter": "python",
   "pygments_lexer": "ipython3",
   "version": "3.7.3"
  }
 },
 "nbformat": 4,
 "nbformat_minor": 2
}
