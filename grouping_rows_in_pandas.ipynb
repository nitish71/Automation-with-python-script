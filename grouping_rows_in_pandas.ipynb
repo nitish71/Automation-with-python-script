{
 "cells": [
  {
   "cell_type": "code",
   "execution_count": 1,
   "metadata": {},
   "outputs": [
    {
     "name": "stdout",
     "output_type": "stream",
     "text": [
      "\n",
      "*********************How to group rows in a Pandas DataFrame**********************\n",
      "\n",
      "      regiment company      name  preTestScore  postTestScore\n",
      "0   Nighthawks     1st    Miller             4             25\n",
      "1   Nighthawks     1st  Jacobson            24             94\n",
      "2   Nighthawks     2nd       Ali            31             57\n",
      "3   Nighthawks     2nd    Milner             2             62\n",
      "4     Dragoons     1st     Cooze             3             70\n",
      "5     Dragoons     1st     Jacon             4             25\n",
      "6     Dragoons     2nd    Ryaner            24             94\n",
      "7     Dragoons     2nd      Sone            31             57\n",
      "8       Scouts     1st     Sloan             2             62\n",
      "9       Scouts     1st     Piger             3             70\n",
      "10      Scouts     2nd     Riani             2             62\n",
      "11      Scouts     2nd       Ali             3             70\n",
      "\n",
      "regiment\n",
      "Dragoons      15.50\n",
      "Nighthawks    15.25\n",
      "Scouts         2.50\n",
      "Name: preTestScore, dtype: float64\n",
      "\n",
      "regiment\n",
      "Dragoons      62\n",
      "Nighthawks    61\n",
      "Scouts        10\n",
      "Name: preTestScore, dtype: int64\n",
      "\n",
      "regiment\n",
      "Dragoons      31\n",
      "Nighthawks    31\n",
      "Scouts         3\n",
      "Name: preTestScore, dtype: int64\n",
      "\n",
      "regiment\n",
      "Dragoons      3\n",
      "Nighthawks    2\n",
      "Scouts        2\n",
      "Name: preTestScore, dtype: int64\n",
      "\n",
      "regiment\n",
      "Dragoons      4\n",
      "Nighthawks    4\n",
      "Scouts        4\n",
      "Name: preTestScore, dtype: int64\n"
     ]
    }
   ],
   "source": [
    "## How to group rows in a Pandas DataFrame\n",
    "def grouping_row_pd():\n",
    "    print()\n",
    "    print(format('How to group rows in a Pandas DataFrame','*^82'))\n",
    "\n",
    "    import warnings\n",
    "    warnings.filterwarnings(\"ignore\")\n",
    "\n",
    "    # load libraries\n",
    "    import pandas as pd\n",
    "\n",
    "    # Create a dataframe\n",
    "    raw_data = {'regiment': ['Nighthawks', 'Nighthawks', 'Nighthawks', 'Nighthawks', 'Dragoons', 'Dragoons', 'Dragoons', 'Dragoons', 'Scouts', 'Scouts', 'Scouts', 'Scouts'],\n",
    "                'company': ['1st', '1st', '2nd', '2nd', '1st', '1st', '2nd', '2nd','1st', '1st', '2nd', '2nd'],\n",
    "                'name': ['Miller', 'Jacobson', 'Ali', 'Milner', 'Cooze', 'Jacon', 'Ryaner', 'Sone', 'Sloan', 'Piger', 'Riani', 'Ali'],\n",
    "                'preTestScore': [4, 24, 31, 2, 3, 4, 24, 31, 2, 3, 2, 3],\n",
    "                'postTestScore': [25, 94, 57, 62, 70, 25, 94, 57, 62, 70, 62, 70]}\n",
    "    df = pd.DataFrame(raw_data, columns = ['regiment', 'company', 'name', 'preTestScore', 'postTestScore'])\n",
    "    print(); print(df)\n",
    "\n",
    "    # Create a grouping object. In other words, create an object that\n",
    "    # represents that particular grouping. \n",
    "    regiment_preScore = df['preTestScore'].groupby(df['regiment'])\n",
    "\n",
    "    # Display the values of the each regiment's pre-test score\n",
    "    print(); print(regiment_preScore.mean())\n",
    "    print(); print(regiment_preScore.sum())\n",
    "    print(); print(regiment_preScore.max())\n",
    "    print(); print(regiment_preScore.min())\n",
    "    print(); print(regiment_preScore.count())\n",
    "\n",
    "grouping_row_pd()"
   ]
  },
  {
   "cell_type": "code",
   "execution_count": null,
   "metadata": {},
   "outputs": [],
   "source": []
  }
 ],
 "metadata": {
  "kernelspec": {
   "display_name": "Python 3",
   "language": "python",
   "name": "python3"
  },
  "language_info": {
   "codemirror_mode": {
    "name": "ipython",
    "version": 3
   },
   "file_extension": ".py",
   "mimetype": "text/x-python",
   "name": "python",
   "nbconvert_exporter": "python",
   "pygments_lexer": "ipython3",
   "version": "3.7.3"
  }
 },
 "nbformat": 4,
 "nbformat_minor": 2
}
