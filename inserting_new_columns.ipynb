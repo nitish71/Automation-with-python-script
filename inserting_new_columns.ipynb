{
 "cells": [
  {
   "cell_type": "code",
   "execution_count": 1,
   "metadata": {},
   "outputs": [
    {
     "name": "stdout",
     "output_type": "stream",
     "text": [
      "\n",
      "*************How to insert a new column based on condition in Python**************\n",
      "\n",
      "   student_name  test_score\n",
      "0        Miller        76.0\n",
      "1      Jacobson        88.0\n",
      "2          Bali        84.0\n",
      "3        Milner        67.0\n",
      "4         Cooze        53.0\n",
      "5         Jacon        96.0\n",
      "6        Ryaner        64.0\n",
      "7          Sone        91.0\n",
      "8         Sloan        77.0\n",
      "9         Piger        73.0\n",
      "10        Riani        52.0\n",
      "11          Ali         NaN\n",
      "\n",
      "   student_name  test_score  grades\n",
      "0        Miller        76.0       C\n",
      "1      Jacobson        88.0       B\n",
      "2          Bali        84.0      B-\n",
      "3        Milner        67.0       D\n",
      "4         Cooze        53.0  Failed\n",
      "5         Jacon        96.0       A\n",
      "6        Ryaner        64.0      D-\n",
      "7          Sone        91.0      A-\n",
      "8         Sloan        77.0       C\n",
      "9         Piger        73.0      C-\n",
      "10        Riani        52.0  Failed\n",
      "11          Ali         NaN  Failed\n"
     ]
    }
   ],
   "source": [
    "## How to insert a new column based on condition in Python\n",
    "def insert_columns():\n",
    "    print()\n",
    "    print(format('How to insert a new column based on condition in Python','*^82'))\n",
    "    import warnings\n",
    "    warnings.filterwarnings(\"ignore\")\n",
    "    # load libraries\n",
    "    import pandas as pd\n",
    "    import numpy as np\n",
    "    # Create an example dataframe\n",
    "    raw_data = {'student_name': ['Miller', 'Jacobson', 'Bali', 'Milner', 'Cooze', 'Jacon', 'Ryaner', 'Sone', 'Sloan', 'Piger', 'Riani', 'Ali'],\n",
    "                'test_score': [76, 88, 84, 67, 53, 96, 64, 91, 77, 73, 52, np.NaN]}\n",
    "    df = pd.DataFrame(raw_data, columns = ['student_name', 'test_score'])\n",
    "    print(); print(df)\n",
    "    # Create a function to assign letter grades\n",
    "    grades = []\n",
    "    for row in df['test_score']:\n",
    "        if row > 95:    grades.append('A')\n",
    "        elif row > 90:  grades.append('A-')\n",
    "        elif row > 85:  grades.append('B')\n",
    "        elif row > 80:  grades.append('B-')\n",
    "        elif row > 75:  grades.append('C')\n",
    "        elif row > 70:  grades.append('C-')\n",
    "        elif row > 65:  grades.append('D')\n",
    "        elif row > 60:  grades.append('D-')\n",
    "        else:           grades.append('Failed')\n",
    "    # Create a column from the list\n",
    "    df['grades'] = grades\n",
    "    # View the new dataframe\n",
    "    print(); print(df)\n",
    "insert_columns()"
   ]
  },
  {
   "cell_type": "code",
   "execution_count": null,
   "metadata": {},
   "outputs": [],
   "source": []
  }
 ],
 "metadata": {
  "kernelspec": {
   "display_name": "Python 3",
   "language": "python",
   "name": "python3"
  },
  "language_info": {
   "codemirror_mode": {
    "name": "ipython",
    "version": 3
   },
   "file_extension": ".py",
   "mimetype": "text/x-python",
   "name": "python",
   "nbconvert_exporter": "python",
   "pygments_lexer": "ipython3",
   "version": "3.7.3"
  }
 },
 "nbformat": 4,
 "nbformat_minor": 2
}
