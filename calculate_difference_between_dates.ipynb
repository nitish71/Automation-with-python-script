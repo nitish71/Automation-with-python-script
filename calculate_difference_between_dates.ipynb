{
 "cells": [
  {
   "cell_type": "code",
   "execution_count": 1,
   "metadata": {},
   "outputs": [
    {
     "name": "stdout",
     "output_type": "stream",
     "text": [
      "\n",
      "***************How to claculate difference between Dates in Python****************\n",
      "0   0 days\n",
      "1   2 days\n",
      "dtype: timedelta64[ns]\n",
      "0    0\n",
      "1    2\n",
      "dtype: int64\n"
     ]
    }
   ],
   "source": [
    "## How to claculate difference between Dates in Python \n",
    "def difference_of_dates():\n",
    "    print()\n",
    "    print(format('How to claculate difference between Dates in Python',\n",
    "                 '*^82'))\n",
    "    import warnings\n",
    "    warnings.filterwarnings(\"ignore\")\n",
    "\n",
    "    # Load library\n",
    "    import pandas as pd\n",
    "\n",
    "    # Create data frame\n",
    "    df = pd.DataFrame()\n",
    "\n",
    "    # Create two datetime features\n",
    "    df['Date1'] = [pd.Timestamp('01-01-2017'),\n",
    "                     pd.Timestamp('01-04-2017')]\n",
    "    df['Date2']    = [pd.Timestamp('01-01-2017'),\n",
    "                     pd.Timestamp('01-06-2017')]\n",
    "\n",
    "    # Calculate Difference (Method 1)\n",
    "    print(df['Date2'] - df['Date1'])\n",
    "\n",
    "    # Calculate Difference (Method 2)\n",
    "    print(pd.Series(delta.days for delta in (df['Date2'] - df['Date1'])))\n",
    "\n",
    "difference_of_dates()"
   ]
  },
  {
   "cell_type": "code",
   "execution_count": null,
   "metadata": {},
   "outputs": [],
   "source": []
  }
 ],
 "metadata": {
  "kernelspec": {
   "display_name": "Python 3",
   "language": "python",
   "name": "python3"
  },
  "language_info": {
   "codemirror_mode": {
    "name": "ipython",
    "version": 3
   },
   "file_extension": ".py",
   "mimetype": "text/x-python",
   "name": "python",
   "nbconvert_exporter": "python",
   "pygments_lexer": "ipython3",
   "version": "3.7.3"
  }
 },
 "nbformat": 4,
 "nbformat_minor": 2
}
