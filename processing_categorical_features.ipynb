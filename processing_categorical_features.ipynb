{
 "cells": [
  {
   "cell_type": "code",
   "execution_count": 1,
   "metadata": {},
   "outputs": [
    {
     "name": "stdout",
     "output_type": "stream",
     "text": [
      "\n",
      "******************How to process categorical features in Python*******************\n",
      "\n",
      "  first_name last_name  age           city\n",
      "0      Jason    Miller   42  San Francisco\n",
      "1      Molly  Jacobson   52      Baltimore\n",
      "2       Tina       Ali   36          Miami\n",
      "3       Jake    Milner   24        Douglas\n",
      "4        Amy     Cooze   73         Boston\n",
      "\n",
      "   Baltimore  Boston  Douglas  Miami  San Francisco\n",
      "0          0       0        0      0              1\n",
      "1          1       0        0      0              0\n",
      "2          0       0        0      1              0\n",
      "3          0       0        1      0              0\n",
      "4          0       1        0      0              0\n",
      "\n",
      "[4 0 3 2 1]\n",
      "\n",
      "[[0. 0. 0. 0. 1.]\n",
      " [1. 0. 0. 0. 0.]\n",
      " [0. 0. 0. 1. 0.]\n",
      " [0. 0. 1. 0. 0.]\n",
      " [0. 1. 0. 0. 0.]]\n"
     ]
    }
   ],
   "source": [
    "## How to process categorical features in Python \n",
    "def process_categorical_features():\n",
    "    print()\n",
    "    print(format('How to process categorical features in Python', '*^82'))\n",
    "\n",
    "    import warnings\n",
    "    warnings.filterwarnings(\"ignore\")\n",
    "\n",
    "    # load libraries\n",
    "    from sklearn import preprocessing\n",
    "\n",
    "    #from sklearn.pipeline import Pipeline\n",
    "    import pandas as pd\n",
    "\n",
    "    # Create Data\n",
    "    raw_data = {'first_name': ['Jason', 'Molly', 'Tina', 'Jake', 'Amy'],\n",
    "                'last_name': ['Miller', 'Jacobson', 'Ali', 'Milner', 'Cooze'],\n",
    "                'age': [42, 52, 36, 24, 73],\n",
    "                'city': ['San Francisco', 'Baltimore', 'Miami', 'Douglas', 'Boston']}\n",
    "    df = pd.DataFrame(raw_data, columns = ['first_name', 'last_name', 'age', 'city'])\n",
    "    print(); print(df)\n",
    "\n",
    "    # Convert Nominal Categorical Feature Into Dummy Variables Using Pandas\n",
    "    # Create dummy variables for every unique category in df.city\n",
    "    print(); print(pd.get_dummies(df[\"city\"]))\n",
    "\n",
    "    # Convert Nominal Categorical Data Into Dummy (OneHot) Features Using Scikit\n",
    "    # Convert strings categorical names to integers\n",
    "    integerized_data = preprocessing.LabelEncoder().fit_transform(df[\"city\"])\n",
    "\n",
    "    # View data\n",
    "    print(); print(integerized_data)\n",
    "\n",
    "    # Convert integer categorical representations to OneHot encodings\n",
    "    output = preprocessing.OneHotEncoder().fit_transform(integerized_data.reshape(-1,1)).toarray()\n",
    "    print(); print(output)\n",
    "\n",
    "process_categorical_features()"
   ]
  },
  {
   "cell_type": "code",
   "execution_count": null,
   "metadata": {},
   "outputs": [],
   "source": []
  }
 ],
 "metadata": {
  "kernelspec": {
   "display_name": "Python 3",
   "language": "python",
   "name": "python3"
  },
  "language_info": {
   "codemirror_mode": {
    "name": "ipython",
    "version": 3
   },
   "file_extension": ".py",
   "mimetype": "text/x-python",
   "name": "python",
   "nbconvert_exporter": "python",
   "pygments_lexer": "ipython3",
   "version": "3.7.3"
  }
 },
 "nbformat": 4,
 "nbformat_minor": 2
}
