{
 "cells": [
  {
   "cell_type": "code",
   "execution_count": 1,
   "metadata": {},
   "outputs": [
    {
     "name": "stdout",
     "output_type": "stream",
     "text": [
      "\n",
      "*********How to use CONTINUE and BREAK statement within a loop in Python**********\n",
      "It is 4! Changing running to false\n"
     ]
    }
   ],
   "source": [
    "# How to use CONTINUE and BREAK statement within a loop in Python\n",
    "def BREAK_and_CONTINUE():\n",
    "    print()\n",
    "    print(format('How to use CONTINUE and BREAK statement within a loop in Python',\n",
    "                 '*^82'))\n",
    "    import warnings\n",
    "    warnings.filterwarnings(\"ignore\")\n",
    "\n",
    "    # Import the random module\n",
    "    import random\n",
    "    # Create a while loop # set \"running\" to true\n",
    "    running = True\n",
    "    # while running is true\n",
    "    while running:\n",
    "        # Create a random integer between 0 and 5\n",
    "        s = random.randint(0,5)\n",
    "        # If the integer is less than 3\n",
    "        if s < 3:\n",
    "            print(s, ': It is too small, starting again.')\n",
    "            continue\n",
    "        # If the integer is 4\n",
    "        if s == 4:\n",
    "            running = False\n",
    "            print('It is 4! Changing running to false')\n",
    "        # If the integer is 5,\n",
    "        if s == 5:\n",
    "            print('It is 5! Breaking Loop!')\n",
    "            break\n",
    "BREAK_and_CONTINUE()"
   ]
  },
  {
   "cell_type": "code",
   "execution_count": null,
   "metadata": {},
   "outputs": [],
   "source": []
  }
 ],
 "metadata": {
  "kernelspec": {
   "display_name": "Python 3",
   "language": "python",
   "name": "python3"
  },
  "language_info": {
   "codemirror_mode": {
    "name": "ipython",
    "version": 3
   },
   "file_extension": ".py",
   "mimetype": "text/x-python",
   "name": "python",
   "nbconvert_exporter": "python",
   "pygments_lexer": "ipython3",
   "version": "3.7.3"
  }
 },
 "nbformat": 4,
 "nbformat_minor": 2
}
