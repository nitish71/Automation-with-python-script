{
 "cells": [
  {
   "cell_type": "code",
   "execution_count": 1,
   "metadata": {},
   "outputs": [
    {
     "name": "stdout",
     "output_type": "stream",
     "text": [
      "\n",
      "***************How to prepare a machine leaning workflow in Python****************\n"
     ]
    },
    {
     "name": "stderr",
     "output_type": "stream",
     "text": [
      "C:\\Users\\DELL\\anaconda\\lib\\site-packages\\sklearn\\linear_model\\stochastic_gradient.py:152: DeprecationWarning: n_iter parameter is deprecated in 0.19 and will be removed in 0.21. Use max_iter and tol instead.\n",
      "  DeprecationWarning)\n"
     ]
    },
    {
     "name": "stdout",
     "output_type": "stream",
     "text": [
      "\n",
      "y_pred:  [1 0 2 2 2 0 1 1 0 0 0 2 0 2 0 0 0 2 0 1 0 0 2 1 0 0 0 2 0 1 1 2 2 0 2 0 0\n",
      " 1 2 1 2 2 2 0 1]\n",
      "\n",
      "y_test:  [1 0 2 2 2 0 1 1 0 0 0 2 0 2 0 0 1 2 0 1 0 0 2 1 0 0 0 2 0 1 1 2 2 0 2 0 0\n",
      " 1 2 1 2 2 2 0 1]\n",
      "\n",
      "Accuracy: 0.98\n",
      "\n",
      "Comfusion Matrix:\n",
      " [[19  0  0]\n",
      " [ 1 10  0]\n",
      " [ 0  0 15]]\n"
     ]
    }
   ],
   "source": [
    "# How to prepare a machine leaning workflow in Python \n",
    "def prepare_machine_learning_WF():\n",
    "    print()\n",
    "    print(format('How to prepare a machine leaning workflow in Python', '*^82'))\n",
    "\n",
    "    import warnings\n",
    "    warnings.filterwarnings(\"ignore\")\n",
    "\n",
    "    # Load libraries\n",
    "    from sklearn import datasets\n",
    "    from sklearn.preprocessing import StandardScaler\n",
    "    from sklearn.linear_model import Perceptron\n",
    "    from sklearn.model_selection import train_test_split\n",
    "    from sklearn.metrics import accuracy_score, confusion_matrix\n",
    "\n",
    "    # Load the iris dataset\n",
    "    iris = datasets.load_iris()\n",
    "\n",
    "    # Create our X and y data\n",
    "    X = iris.data\n",
    "    y = iris.target\n",
    "\n",
    "    # Split the data into 70% training data and 30% test data\n",
    "    X_train, X_test, y_train, y_test = train_test_split(X, y, test_size=0.3)\n",
    "\n",
    "    # Preprocess The X Data By Scaling\n",
    "    sc = StandardScaler(with_mean=True, with_std=True)\n",
    "    sc.fit(X_train)\n",
    "\n",
    "    # Apply the scaler to the X training data\n",
    "    X_train_std = sc.transform(X_train)\n",
    "\n",
    "    # Apply the SAME scaler to the X test data\n",
    "    X_test_std = sc.transform(X_test)\n",
    "\n",
    "    #Train A Perceptron Learner\n",
    "    ppn = Perceptron(alpha=0.0001, class_weight=None, eta0=0.1,\n",
    "                     fit_intercept=True, n_iter=40, n_jobs=4,\n",
    "                     penalty=None, random_state=0, shuffle=True,\n",
    "                     verbose=0, warm_start=False)\n",
    "\n",
    "    # Train the perceptron\n",
    "    ppn.fit(X_train_std, y_train)\n",
    "\n",
    "    # Apply The Trained Learner To Test Data\n",
    "    y_pred = ppn.predict(X_test_std)\n",
    "\n",
    "    # Compare The Predicted Y With The True Y\n",
    "    # View the predicted y test data\n",
    "    print(); print(\"y_pred: \", y_pred)\n",
    "\n",
    "    # View the true y test data\n",
    "    print(); print(\"y_test: \", y_test)\n",
    "\n",
    "    # Examine Accuracy Metric\n",
    "    print(); print('Accuracy: %.2f' % accuracy_score(y_test, y_pred))\n",
    "    print(); print('Comfusion Matrix:\\n', confusion_matrix(y_test, y_pred))\n",
    "\n",
    "prepare_machine_learning_WF()"
   ]
  },
  {
   "cell_type": "code",
   "execution_count": null,
   "metadata": {},
   "outputs": [],
   "source": []
  }
 ],
 "metadata": {
  "kernelspec": {
   "display_name": "Python 3",
   "language": "python",
   "name": "python3"
  },
  "language_info": {
   "codemirror_mode": {
    "name": "ipython",
    "version": 3
   },
   "file_extension": ".py",
   "mimetype": "text/x-python",
   "name": "python",
   "nbconvert_exporter": "python",
   "pygments_lexer": "ipython3",
   "version": "3.7.3"
  }
 },
 "nbformat": 4,
 "nbformat_minor": 2
}
