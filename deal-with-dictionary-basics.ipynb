{
 "cells": [
  {
   "cell_type": "code",
   "execution_count": 1,
   "metadata": {},
   "outputs": [
    {
     "name": "stdout",
     "output_type": "stream",
     "text": [
      "\n",
      "*******************How to work with Dictionary Basics in Python*******************\n",
      "\n",
      "{'name': 'UNEF', 'staff': 32, 'url': 'http://unef.org'}\n",
      "\n",
      "{'name': 'WHO', 'staff': '10', 'url': 'https://setscholars.com'}\n",
      "\n",
      "{'name': 'UNITAS', 'staff': 32, 'url': ['https://setscholars.com', 'https://setscholars.info']}\n",
      "\n",
      "['https://setscholars.com', 'https://setscholars.info']\n",
      "\n",
      "https://setscholars.com\n",
      "\n",
      "https://setscholars.info\n"
     ]
    }
   ],
   "source": [
    "## How to deal with Dictionary Basics in Python\n",
    "def dictionary_basics():\n",
    "    print()\n",
    "    print(format('How to work with Dictionary Basics in Python','*^82'))\n",
    "    import warnings\n",
    "    warnings.filterwarnings(\"ignore\")\n",
    "    # Build a dictionary via brackets\n",
    "    unef_org = {'name' : 'UNEF',\n",
    "                'staff' : 32,\n",
    "                'url' : 'http://unef.org'}\n",
    "    # View the variable\n",
    "    print(); print(unef_org)\n",
    "    #Build a dict via keys\n",
    "    who_org = {}\n",
    "    who_org['name'] = 'WHO'\n",
    "    who_org['staff'] = '10'\n",
    "    who_org['url'] = 'https://setscholars.com'\n",
    "    # View the variable\n",
    "    print(); print(who_org)\n",
    "    # Build a dictionary via brackets # Nesting in dictionaries\n",
    "    unitas_org = {'name' : 'UNITAS',\n",
    "                  'staff' : 32,\n",
    "                  'url' : ['https://setscholars.com',\n",
    "                           'https://setscholars.info']}\n",
    "    # View the variable\n",
    "    print(); print(unitas_org)\n",
    "    # Index the nested list\n",
    "    print(); print(unitas_org['url'])\n",
    "    print(); print(unitas_org['url'][0])\n",
    "    print(); print(unitas_org['url'][1])\n",
    "dictionary_basics()"
   ]
  },
  {
   "cell_type": "code",
   "execution_count": null,
   "metadata": {},
   "outputs": [],
   "source": []
  }
 ],
 "metadata": {
  "kernelspec": {
   "display_name": "Python 3",
   "language": "python",
   "name": "python3"
  },
  "language_info": {
   "codemirror_mode": {
    "name": "ipython",
    "version": 3
   },
   "file_extension": ".py",
   "mimetype": "text/x-python",
   "name": "python",
   "nbconvert_exporter": "python",
   "pygments_lexer": "ipython3",
   "version": "3.7.3"
  }
 },
 "nbformat": 4,
 "nbformat_minor": 2
}
