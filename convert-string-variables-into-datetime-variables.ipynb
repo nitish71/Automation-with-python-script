{
 "cells": [
  {
   "cell_type": "code",
   "execution_count": 1,
   "metadata": {},
   "outputs": [
    {
     "name": "stdout",
     "output_type": "stream",
     "text": [
      "\n",
      "********How to convert string variables into DateTime variables in Python*********\n",
      "\n",
      "                         date  score\n",
      "0  2017-09-01T01:23:41.004053     25\n",
      "1  2017-10-15T01:21:38.004053     94\n",
      "2  2017-12-17T01:17:38.004053     57\n",
      "date     object\n",
      "score     int64\n",
      "dtype: object\n",
      "\n",
      "                        date  score\n",
      "0 2017-09-01 01:23:41.004053     25\n",
      "1 2017-10-15 01:21:38.004053     94\n",
      "2 2017-12-17 01:17:38.004053     57\n",
      "date     datetime64[ns]\n",
      "score             int64\n",
      "dtype: object\n"
     ]
    }
   ],
   "source": [
    "## How to convert string variables into DateTime variables in Python\n",
    "def string_variable_to_DateTIME():\n",
    "    print()\n",
    "    print(format('How to convert string variables into DateTime variables in Python','*^82'))\n",
    "\n",
    "    import warnings\n",
    "    warnings.filterwarnings(\"ignore\")\n",
    "\n",
    "    # load libraries\n",
    "    import pandas as pd\n",
    "\n",
    "    # Create a dataset with the index being a set of names\n",
    "    raw_data = {'date': ['2017-09-01T01:23:41.004053', '2017-10-15T01:21:38.004053',\n",
    "                         '2017-12-17T01:17:38.004053'],\n",
    "                'score': [25, 94, 57]}\n",
    "    df = pd.DataFrame(raw_data, columns = ['date', 'score'])\n",
    "    print(); print(df); print(df.dtypes)\n",
    "\n",
    "    # convert strings to DateTime\n",
    "    df[\"date\"] = pd.to_datetime(df[\"date\"])\n",
    "    print(); print(df); print(df.dtypes)\n",
    "\n",
    "string_variable_to_DateTIME()"
   ]
  },
  {
   "cell_type": "code",
   "execution_count": null,
   "metadata": {},
   "outputs": [],
   "source": []
  }
 ],
 "metadata": {
  "kernelspec": {
   "display_name": "Python 3",
   "language": "python",
   "name": "python3"
  },
  "language_info": {
   "codemirror_mode": {
    "name": "ipython",
    "version": 3
   },
   "file_extension": ".py",
   "mimetype": "text/x-python",
   "name": "python",
   "nbconvert_exporter": "python",
   "pygments_lexer": "ipython3",
   "version": "3.7.3"
  }
 },
 "nbformat": 4,
 "nbformat_minor": 2
}
