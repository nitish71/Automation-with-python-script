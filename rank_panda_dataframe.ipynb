{
 "cells": [
  {
   "cell_type": "code",
   "execution_count": 1,
   "metadata": {},
   "outputs": [
    {
     "name": "stdout",
     "output_type": "stream",
     "text": [
      "\n",
      "**************************How to rank a Pandas DataFrame**************************\n",
      "\n",
      "             name  year  reports  coverage\n",
      "Cochice     Jason  2012        4        25\n",
      "Pima        Molly  2012       24        94\n",
      "Santa Cruz   Tina  2013       31        57\n",
      "Maricopa     Jake  2014        2        62\n",
      "Yuma          Amy  2014        3        70\n",
      "\n",
      "             name  year  reports  coverage  coverageRanked\n",
      "Cochice     Jason  2012        4        25             1.0\n",
      "Pima        Molly  2012       24        94             5.0\n",
      "Santa Cruz   Tina  2013       31        57             2.0\n",
      "Maricopa     Jake  2014        2        62             3.0\n",
      "Yuma          Amy  2014        3        70             4.0\n",
      "\n",
      "             name  year  reports  coverage  coverageRanked\n",
      "Cochice     Jason  2012        4        25             5.0\n",
      "Pima        Molly  2012       24        94             1.0\n",
      "Santa Cruz   Tina  2013       31        57             4.0\n",
      "Maricopa     Jake  2014        2        62             3.0\n",
      "Yuma          Amy  2014        3        70             2.0\n"
     ]
    }
   ],
   "source": [
    "## How to rank a Pandas DataFrame\n",
    "def Ranking_panda_DF():\n",
    "    print()\n",
    "    print(format('How to rank a Pandas DataFrame','*^82'))\n",
    "\n",
    "    import warnings\n",
    "    warnings.filterwarnings(\"ignore\")\n",
    "\n",
    "    # load libraries\n",
    "    import pandas as pd\n",
    "\n",
    "    # Create dataframe\n",
    "    data = {'name': ['Jason', 'Molly', 'Tina', 'Jake', 'Amy'],\n",
    "            'year': [2012, 2012, 2013, 2014, 2014],\n",
    "            'reports': [4, 24, 31, 2, 3],\n",
    "            'coverage': [25, 94, 57, 62, 70]}\n",
    "\n",
    "    df = pd.DataFrame(data, index = ['Cochice', 'Pima', 'Santa Cruz', 'Maricopa', 'Yuma'])\n",
    "    print(); print(df)\n",
    "\n",
    "    # Create a new column that is the rank of the value of coverage in ascending order\n",
    "    df['coverageRanked'] = df['coverage'].rank(ascending=True)\n",
    "    print(); print(df)\n",
    "\n",
    "    # Create a new column that is the rank of the value of coverage in descending order\n",
    "    df['coverageRanked'] = df['coverage'].rank(ascending=False)\n",
    "    print(); print(df)\n",
    "\n",
    "Ranking_panda_DF()"
   ]
  },
  {
   "cell_type": "code",
   "execution_count": null,
   "metadata": {},
   "outputs": [],
   "source": []
  }
 ],
 "metadata": {
  "kernelspec": {
   "display_name": "Python 3",
   "language": "python",
   "name": "python3"
  },
  "language_info": {
   "codemirror_mode": {
    "name": "ipython",
    "version": 3
   },
   "file_extension": ".py",
   "mimetype": "text/x-python",
   "name": "python",
   "nbconvert_exporter": "python",
   "pygments_lexer": "ipython3",
   "version": "3.7.3"
  }
 },
 "nbformat": 4,
 "nbformat_minor": 2
}
