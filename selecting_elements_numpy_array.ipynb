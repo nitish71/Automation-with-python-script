{
 "cells": [
  {
   "cell_type": "code",
   "execution_count": 1,
   "metadata": {},
   "outputs": [
    {
     "name": "stdout",
     "output_type": "stream",
     "text": [
      "\n",
      "******How to Select Elements from Numpy Array*******\n",
      "\n",
      "2\n",
      "\n",
      "5\n",
      "\n",
      "[4 4]\n"
     ]
    }
   ],
   "source": [
    "## How to Select Elements from a Numpy Array\n",
    "def select_elements_from_numPy():\n",
    "    print()\n",
    "    print(format('How to Select Elements from Numpy Array', '*^52'))\n",
    "\n",
    "    # Load library\n",
    "    import numpy as np\n",
    "\n",
    "    # Create row vector\n",
    "    vector = np.array([1, 2, 3, 4, 5, 6])\n",
    "    # Select second element\n",
    "    print()\n",
    "    print(vector[1])\n",
    "\n",
    "    # Create matrix\n",
    "    matrix = np.array([[1, 2, 3],\n",
    "                   [4, 5, 6],\n",
    "                   [7, 8, 9]])\n",
    "    # Select second row, second column\n",
    "    print()\n",
    "    print(matrix[1,1])\n",
    "\n",
    "    # Create Tensor\n",
    "    tensor = np.array([\n",
    "                    [[[1, 1], [1, 1]], [[2, 2], [2, 2]]],\n",
    "                    [[[3, 3], [3, 3]], [[4, 4], [4, 4]]]\n",
    "                  ])\n",
    "    # Select second element of each of the three dimensions\n",
    "    print()\n",
    "    print(tensor[1,1,1])\n",
    "select_elements_from_numPy()"
   ]
  },
  {
   "cell_type": "code",
   "execution_count": null,
   "metadata": {},
   "outputs": [],
   "source": []
  }
 ],
 "metadata": {
  "kernelspec": {
   "display_name": "Python 3",
   "language": "python",
   "name": "python3"
  },
  "language_info": {
   "codemirror_mode": {
    "name": "ipython",
    "version": 3
   },
   "file_extension": ".py",
   "mimetype": "text/x-python",
   "name": "python",
   "nbconvert_exporter": "python",
   "pygments_lexer": "ipython3",
   "version": "3.7.3"
  }
 },
 "nbformat": 4,
 "nbformat_minor": 2
}
