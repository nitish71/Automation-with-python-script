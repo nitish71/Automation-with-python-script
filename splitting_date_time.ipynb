{
 "cells": [
  {
   "cell_type": "code",
   "execution_count": 1,
   "metadata": {},
   "outputs": [
    {
     "name": "stdout",
     "output_type": "stream",
     "text": [
      "\n",
      "*********How to split DateTime Data to create multiple features in Python*********\n",
      "        date\n",
      "0 2018-01-31\n",
      "1 2018-02-28\n",
      "2 2018-03-31\n",
      "3 2018-04-30\n",
      "4 2018-05-31\n",
      "\n",
      "        date  year  month  day  hour  minute\n",
      "0 2018-01-31  2018      1   31     0       0\n",
      "1 2018-02-28  2018      2   28     0       0\n",
      "2 2018-03-31  2018      3   31     0       0\n"
     ]
    }
   ],
   "source": [
    "## How to split DateTime Data to create multiple feature in Python \n",
    "def splitting_date_time():\n",
    "    print()\n",
    "    print(format('How to split DateTime Data to create multiple features in Python', '*^82'))\n",
    "    import warnings\n",
    "    warnings.filterwarnings(\"ignore\")\n",
    "\n",
    "    # Load library\n",
    "    import pandas as pd\n",
    "\n",
    "    # Create data frame\n",
    "    df = pd.DataFrame()\n",
    "\n",
    "    # Create dates\n",
    "    df['date'] = pd.date_range('1/1/2018', periods=5, freq='M')\n",
    "    print(df)\n",
    "\n",
    "    # Create features for year, month, day, hour, and minute\n",
    "    df['year'] = df['date'].dt.year\n",
    "    df['month'] = df['date'].dt.month\n",
    "    df['day'] = df['date'].dt.day\n",
    "    df['hour'] = df['date'].dt.hour\n",
    "    df['minute'] = df['date'].dt.minute\n",
    "\n",
    "    # Show three rows\n",
    "    print()\n",
    "    print(df.head(3))\n",
    "\n",
    "splitting_date_time()"
   ]
  },
  {
   "cell_type": "code",
   "execution_count": null,
   "metadata": {},
   "outputs": [],
   "source": []
  }
 ],
 "metadata": {
  "kernelspec": {
   "display_name": "Python 3",
   "language": "python",
   "name": "python3"
  },
  "language_info": {
   "codemirror_mode": {
    "name": "ipython",
    "version": 3
   },
   "file_extension": ".py",
   "mimetype": "text/x-python",
   "name": "python",
   "nbconvert_exporter": "python",
   "pygments_lexer": "ipython3",
   "version": "3.7.3"
  }
 },
 "nbformat": 4,
 "nbformat_minor": 2
}
