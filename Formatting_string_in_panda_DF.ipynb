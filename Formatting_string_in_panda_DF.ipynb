{
 "cells": [
  {
   "cell_type": "code",
   "execution_count": 1,
   "metadata": {},
   "outputs": [
    {
     "name": "stdout",
     "output_type": "stream",
     "text": [
      "\n",
      "****************How to format string in a Pandas DataFrame Column*****************\n",
      "\n",
      "0    Steve Murrey\n",
      "1      Jane Fonda\n",
      "2    Sara McGully\n",
      "3       Mary Jane\n",
      "dtype: object\n",
      "\n",
      "0    steve murrey\n",
      "1      jane fonda\n",
      "2    sara mcgully\n",
      "3       mary jane\n",
      "dtype: object\n",
      "\n",
      "0    STEVE MURREY\n",
      "1      JANE FONDA\n",
      "2    SARA MCGULLY\n",
      "3       MARY JANE\n",
      "dtype: object\n",
      "\n",
      "0    Steve Murrey\n",
      "1      Jane Fonda\n",
      "2    Sara Mcgully\n",
      "3       Mary Jane\n",
      "dtype: object\n",
      "\n",
      "0    [Steve, Murrey]\n",
      "1      [Jane, Fonda]\n",
      "2    [Sara, McGully]\n",
      "3       [Mary, Jane]\n",
      "dtype: object\n",
      "\n",
      "0    Steve murrey\n",
      "1      Jane fonda\n",
      "2    Sara mcgully\n",
      "3       Mary jane\n",
      "dtype: object\n"
     ]
    }
   ],
   "source": [
    "# How to format string in a Pandas DataFrame Column\n",
    "def STRING_formatting():\n",
    "    print()\n",
    "    print(format('How to format string in a Pandas DataFrame Column','*^82'))\n",
    "\n",
    "    import warnings\n",
    "    warnings.filterwarnings(\"ignore\")\n",
    "\n",
    "    # load libraries\n",
    "    import pandas as pd\n",
    "\n",
    "    # Create a list of first names\n",
    "    first_names = pd.Series(['Steve Murrey', 'Jane Fonda',\n",
    "                             'Sara McGully', 'Mary Jane'])\n",
    "    print()\n",
    "    print(first_names)\n",
    "\n",
    "    # print the column with lower case\n",
    "    print(); print(first_names.str.lower())\n",
    "\n",
    "    # print the column with upper case\n",
    "    print(); print(first_names.str.upper())\n",
    "\n",
    "    # print the column with title case\n",
    "    print(); print(first_names.str.title())\n",
    "\n",
    "    # print the column split across spaces\n",
    "    print(); print(first_names.str.split(\" \"))\n",
    "\n",
    "    # print the column with capitalized case\n",
    "    print(); print(first_names.str.capitalize())\n",
    "\n",
    "STRING_formatting()"
   ]
  },
  {
   "cell_type": "code",
   "execution_count": null,
   "metadata": {},
   "outputs": [],
   "source": []
  }
 ],
 "metadata": {
  "kernelspec": {
   "display_name": "Python 3",
   "language": "python",
   "name": "python3"
  },
  "language_info": {
   "codemirror_mode": {
    "name": "ipython",
    "version": 3
   },
   "file_extension": ".py",
   "mimetype": "text/x-python",
   "name": "python",
   "nbconvert_exporter": "python",
   "pygments_lexer": "ipython3",
   "version": "3.7.3"
  }
 },
 "nbformat": 4,
 "nbformat_minor": 2
}
