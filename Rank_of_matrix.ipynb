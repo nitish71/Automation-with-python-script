{
 "cells": [
  {
   "cell_type": "code",
   "execution_count": 1,
   "metadata": {},
   "outputs": [
    {
     "name": "stdout",
     "output_type": "stream",
     "text": [
      "\n",
      "********************How to find the Rank of a Matrix********************\n",
      "\n",
      "The Rank of a Matrix:  3\n"
     ]
    }
   ],
   "source": [
    "# How to find the Rank of a Matrix\n",
    "def Rank_of_matrix():\n",
    "    print()\n",
    "    print(format('How to find the Rank of a Matrix','*^72'))\n",
    "    # Load library\n",
    "    import numpy as np\n",
    "    # Create matrix\n",
    "    matrixA = np.array([[1, 2, 3, 23],\n",
    "                       [4, 5, 6, 25],\n",
    "                       [7, 8, 9, 28],\n",
    "                       [10, 11, 12, 41]])\n",
    "    # Return the Rank of a Matrix\n",
    "    print(); print(\"The Rank of a Matrix: \",\n",
    "                    np.linalg.matrix_rank(matrixA))\n",
    "Rank_of_matrix()"
   ]
  },
  {
   "cell_type": "code",
   "execution_count": null,
   "metadata": {},
   "outputs": [],
   "source": []
  }
 ],
 "metadata": {
  "kernelspec": {
   "display_name": "Python 3",
   "language": "python",
   "name": "python3"
  },
  "language_info": {
   "codemirror_mode": {
    "name": "ipython",
    "version": 3
   },
   "file_extension": ".py",
   "mimetype": "text/x-python",
   "name": "python",
   "nbconvert_exporter": "python",
   "pygments_lexer": "ipython3",
   "version": "3.7.3"
  }
 },
 "nbformat": 4,
 "nbformat_minor": 2
}
