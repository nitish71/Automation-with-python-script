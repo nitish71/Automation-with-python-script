{
 "cells": [
  {
   "cell_type": "code",
   "execution_count": 1,
   "metadata": {},
   "outputs": [
    {
     "name": "stdout",
     "output_type": "stream",
     "text": [
      "\n",
      "************How to Create simulated data for classification in Python*************\n",
      "\n",
      "Feature Matrix: \n",
      "   Feature 1  Feature 2  Feature 3  Feature 4  Feature 5  Feature 6  \\\n",
      "0   3.348448  -2.761275  -4.050964   5.375949   2.427426  -0.774759   \n",
      "1   0.623105   1.143324  -0.734272   0.870998   0.514539  -1.355790   \n",
      "2   1.685737  -0.238943  -1.403308  -0.044441  -1.730387   0.804446   \n",
      "3  -1.123542  -2.653547  -0.278870   1.368091   0.102335  -1.200936   \n",
      "4   1.112578  -3.063002  -0.685003   2.077301   2.798640  -3.331463   \n",
      "\n",
      "   Feature 7  Feature 8  Feature 9  Feature 10  \n",
      "0  -1.007343  -0.062853   0.067951   -3.266960  \n",
      "1   0.809256  -0.150604   1.534485    1.901237  \n",
      "2   1.699262   1.242143   2.858123   -1.459339  \n",
      "3   0.531908   3.748662   3.328450    1.114490  \n",
      "4  -1.984609   2.077871  -1.377482   -3.259495  \n",
      "\n",
      "Target Class: \n",
      "   TargetClass\n",
      "0            1\n",
      "1            1\n",
      "2            2\n",
      "3            2\n",
      "4            2\n"
     ]
    }
   ],
   "source": [
    "# How to Create simulated data for classification in Python \n",
    "def create_simulated_data_f_classification():\n",
    "    print()\n",
    "    print(format('How to Create simulated data for classification in Python', '*^82'))\n",
    "\n",
    "    # Load libraries\n",
    "    from sklearn.datasets import make_classification\n",
    "    import pandas as pd\n",
    "\n",
    "    # Create Simulated Data\n",
    "    # Create a simulated feature matrix and output vector with 100 samples,\n",
    "    features, output = make_classification(n_samples = 100,\n",
    "                                       n_features = 10,\n",
    "                                       n_informative = 10,\n",
    "                                       n_redundant = 0,\n",
    "                                       n_classes = 3,\n",
    "                                       weights = [.2, .3, .8])\n",
    "\n",
    "    # View the first five observations and their 10 features\n",
    "    print()\n",
    "    print(\"Feature Matrix: \");\n",
    "    print(pd.DataFrame(features, columns=['Feature 1', 'Feature 2', 'Feature 3',\n",
    "         'Feature 4', 'Feature 5', 'Feature 6', 'Feature 7', 'Feature 8', 'Feature 9',\n",
    "         'Feature 10']).head())\n",
    "\n",
    "    # View the first five observation's classes\n",
    "    print()\n",
    "    print(\"Target Class: \");\n",
    "    print(pd.DataFrame(output, columns=['TargetClass']).head())\n",
    "\n",
    "create_simulated_data_f_classification()"
   ]
  },
  {
   "cell_type": "code",
   "execution_count": null,
   "metadata": {},
   "outputs": [],
   "source": []
  }
 ],
 "metadata": {
  "kernelspec": {
   "display_name": "Python 3",
   "language": "python",
   "name": "python3"
  },
  "language_info": {
   "codemirror_mode": {
    "name": "ipython",
    "version": 3
   },
   "file_extension": ".py",
   "mimetype": "text/x-python",
   "name": "python",
   "nbconvert_exporter": "python",
   "pygments_lexer": "ipython3",
   "version": "3.7.3"
  }
 },
 "nbformat": 4,
 "nbformat_minor": 2
}
