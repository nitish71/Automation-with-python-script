{
 "cells": [
  {
   "cell_type": "code",
   "execution_count": 1,
   "metadata": {},
   "outputs": [
    {
     "name": "stdout",
     "output_type": "stream",
     "text": [
      "\n",
      "************How to convert strings into numerical variables in Python*************\n",
      "\n",
      "   patient  obs  treatment   score\n",
      "0        1    1          0  strong\n",
      "1        1    2          1    weak\n",
      "2        1    3          0  normal\n",
      "3        2    1          1    weak\n",
      "4        2    2          0  strong\n",
      "\n",
      "   patient  obs  treatment   score  score_num\n",
      "0        1    1          0  strong          3\n",
      "1        1    2          1    weak          1\n",
      "2        1    3          0  normal          2\n",
      "3        2    1          1    weak          1\n",
      "4        2    2          0  strong          3\n"
     ]
    }
   ],
   "source": [
    "## How to convert string categorical variables into numerical variables in Python\n",
    "def SV_to_NV():\n",
    "    print()\n",
    "    print(format('How to convert strings into numerical variables in Python','*^82'))\n",
    "\n",
    "    import warnings\n",
    "    warnings.filterwarnings(\"ignore\")\n",
    "\n",
    "    # load libraries\n",
    "    import pandas as pd\n",
    "\n",
    "    # Create dataframe\n",
    "    raw_data = {'patient': [1, 1, 1, 2, 2],\n",
    "                'obs': [1, 2, 3, 1, 2],\n",
    "                'treatment': [0, 1, 0, 1, 0],\n",
    "                'score': ['strong', 'weak', 'normal', 'weak', 'strong']}\n",
    "\n",
    "    df = pd.DataFrame(raw_data, columns = ['patient', 'obs', 'treatment', 'score'])\n",
    "    print(); print(df)\n",
    "\n",
    "    # Create a function that converts all values of df['score'] into numbers\n",
    "    def score_to_numeric(x):\n",
    "        if x=='strong': return 3\n",
    "        if x=='normal': return 2\n",
    "        if x=='weak':   return 1\n",
    "\n",
    "    # Apply the function to the score variable\n",
    "    df['score_num'] = df['score'].apply(score_to_numeric)\n",
    "    print(); print(df)\n",
    "\n",
    "SV_to_NV()"
   ]
  },
  {
   "cell_type": "code",
   "execution_count": null,
   "metadata": {},
   "outputs": [],
   "source": []
  }
 ],
 "metadata": {
  "kernelspec": {
   "display_name": "Python 3",
   "language": "python",
   "name": "python3"
  },
  "language_info": {
   "codemirror_mode": {
    "name": "ipython",
    "version": 3
   },
   "file_extension": ".py",
   "mimetype": "text/x-python",
   "name": "python",
   "nbconvert_exporter": "python",
   "pygments_lexer": "ipython3",
   "version": "3.7.3"
  }
 },
 "nbformat": 4,
 "nbformat_minor": 2
}
