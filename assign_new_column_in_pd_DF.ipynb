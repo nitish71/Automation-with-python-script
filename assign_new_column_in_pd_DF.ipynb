{
 "cells": [
  {
   "cell_type": "code",
   "execution_count": 1,
   "metadata": {},
   "outputs": [
    {
     "name": "stdout",
     "output_type": "stream",
     "text": [
      "\n",
      "*****************How to assign a new column in a Pandas DataFrame*****************\n",
      "\n",
      "  StudentName\n",
      "0        John\n",
      "1       Steve\n",
      "2       Sarah\n",
      "\n",
      "  StudentName  Marks\n",
      "0        John     71\n",
      "1       Steve     82\n",
      "2       Sarah     89\n"
     ]
    }
   ],
   "source": [
    "## How to assign a new column in a Pandas DataFrame\n",
    "def assign_columns():\n",
    "    print()\n",
    "    print(format('How to assign a new column in a Pandas DataFrame','*^82'))\n",
    "\n",
    "    import warnings\n",
    "    warnings.filterwarnings(\"ignore\")\n",
    "\n",
    "    # load libraries\n",
    "    import pandas as pd\n",
    "\n",
    "    # Create empty dataframe\n",
    "    df = pd.DataFrame()\n",
    "\n",
    "    # Create a column\n",
    "    df['StudentName'] = ['John', 'Steve', 'Sarah']\n",
    "\n",
    "    # View dataframe\n",
    "    print(); print(df)\n",
    "\n",
    "    # Assign a new column to df called 'age' with a list of ages\n",
    "    df = df.assign(Marks = [71, 82, 89])\n",
    "\n",
    "    # View dataframe\n",
    "    print(); print(df)\n",
    "\n",
    "assign_columns()"
   ]
  },
  {
   "cell_type": "code",
   "execution_count": null,
   "metadata": {},
   "outputs": [],
   "source": []
  }
 ],
 "metadata": {
  "kernelspec": {
   "display_name": "Python 3",
   "language": "python",
   "name": "python3"
  },
  "language_info": {
   "codemirror_mode": {
    "name": "ipython",
    "version": 3
   },
   "file_extension": ".py",
   "mimetype": "text/x-python",
   "name": "python",
   "nbconvert_exporter": "python",
   "pygments_lexer": "ipython3",
   "version": "3.7.3"
  }
 },
 "nbformat": 4,
 "nbformat_minor": 2
}
