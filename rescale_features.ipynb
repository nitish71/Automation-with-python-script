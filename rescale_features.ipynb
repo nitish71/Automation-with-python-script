{
 "cells": [
  {
   "cell_type": "code",
   "execution_count": 1,
   "metadata": {},
   "outputs": [
    {
     "name": "stdout",
     "output_type": "stream",
     "text": [
      "\n",
      "************************How to rescale features in Python*************************\n",
      "\n",
      "[[-500.5]\n",
      " [-100.1]\n",
      " [   0. ]\n",
      " [ 100.1]\n",
      " [ 900.9]]\n",
      "\n",
      "[[0.        ]\n",
      " [0.28571429]\n",
      " [0.35714286]\n",
      " [0.42857143]\n",
      " [1.        ]]\n"
     ]
    }
   ],
   "source": [
    "## How to rescale features in Python \n",
    "def features_rescaling():\n",
    "    print()\n",
    "    print(format('How to rescale features in Python', '*^82'))\n",
    "    import warnings\n",
    "    warnings.filterwarnings(\"ignore\")\n",
    "\n",
    "    # load libraries\n",
    "    from sklearn import preprocessing\n",
    "    import numpy as np\n",
    "\n",
    "    # Create feature\n",
    "    x = np.array([[-500.5],\n",
    "                  [-100.1],\n",
    "                  [0],\n",
    "                  [100.1],\n",
    "                  [900.9]])\n",
    "\n",
    "    # Rescale Feature Using Min-Max\n",
    "    # Create scaler\n",
    "    minmax_scale = preprocessing.MinMaxScaler(feature_range=(0, 1))\n",
    "\n",
    "    # Scale feature\n",
    "    x_scale = minmax_scale.fit_transform(x)\n",
    "\n",
    "    # Show feature\n",
    "    print(); print(x)\n",
    "    print(); print(x_scale)\n",
    "\n",
    "features_rescaling()"
   ]
  },
  {
   "cell_type": "code",
   "execution_count": null,
   "metadata": {},
   "outputs": [],
   "source": []
  }
 ],
 "metadata": {
  "kernelspec": {
   "display_name": "Python 3",
   "language": "python",
   "name": "python3"
  },
  "language_info": {
   "codemirror_mode": {
    "name": "ipython",
    "version": 3
   },
   "file_extension": ".py",
   "mimetype": "text/x-python",
   "name": "python",
   "nbconvert_exporter": "python",
   "pygments_lexer": "ipython3",
   "version": "3.7.3"
  }
 },
 "nbformat": 4,
 "nbformat_minor": 2
}
