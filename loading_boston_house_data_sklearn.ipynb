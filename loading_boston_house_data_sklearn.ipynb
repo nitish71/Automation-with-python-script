{
 "cells": [
  {
   "cell_type": "code",
   "execution_count": 1,
   "metadata": {},
   "outputs": [
    {
     "name": "stdout",
     "output_type": "stream",
     "text": [
      "\n",
      "****************How to load sklearn Boston housing data*****************\n",
      "\n",
      "(506, 13)\n",
      "\n",
      "(506,)\n"
     ]
    }
   ],
   "source": [
    "## How to load sklearn Boston Housing data \n",
    "def boston_housing_data():\n",
    "    print()\n",
    "    print(format('How to load sklearn Boston housing data', '*^72'))\n",
    "\n",
    "    # Load libraries\n",
    "    from sklearn import datasets\n",
    "\n",
    "    # Load Boston Housing Dataset\n",
    "    boston = datasets.load_boston()\n",
    "\n",
    "    # Create feature matrix\n",
    "    X = boston.data\n",
    "    print(); print(X.shape);\n",
    "\n",
    "    #print(X)\n",
    "    # Create target vector\n",
    "    y = boston.target\n",
    "    print(); print(y.shape);\n",
    "    #print(y)\n",
    "\n",
    "boston_housing_data()"
   ]
  },
  {
   "cell_type": "code",
   "execution_count": null,
   "metadata": {},
   "outputs": [],
   "source": []
  }
 ],
 "metadata": {
  "kernelspec": {
   "display_name": "Python 3",
   "language": "python",
   "name": "python3"
  },
  "language_info": {
   "codemirror_mode": {
    "name": "ipython",
    "version": 3
   },
   "file_extension": ".py",
   "mimetype": "text/x-python",
   "name": "python",
   "nbconvert_exporter": "python",
   "pygments_lexer": "ipython3",
   "version": "3.7.3"
  }
 },
 "nbformat": 4,
 "nbformat_minor": 2
}
