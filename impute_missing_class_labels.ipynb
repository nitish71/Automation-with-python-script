{
 "cells": [
  {
   "cell_type": "code",
   "execution_count": 1,
   "metadata": {},
   "outputs": [
    {
     "name": "stdout",
     "output_type": "stream",
     "text": [
      "\n",
      "*******************How to impute missing class labels in Python*******************\n",
      "\n",
      "[[ 2.    2.1   1.45]\n",
      " [ 1.    1.18  1.33]\n",
      " [ 2.    1.22  1.27]\n",
      " [ 0.   -0.21 -1.19]\n",
      " [  nan  0.87  1.31]\n",
      " [  nan -0.67 -0.22]]\n",
      "\n",
      "[[ 2.    2.1   1.45]\n",
      " [ 1.    1.18  1.33]\n",
      " [ 2.    1.22  1.27]\n",
      " [ 0.   -0.21 -1.19]\n",
      " [ 2.    0.87  1.31]\n",
      " [ 2.   -0.67 -0.22]]\n"
     ]
    },
    {
     "name": "stderr",
     "output_type": "stream",
     "text": [
      "C:\\Users\\DELL\\anaconda\\lib\\site-packages\\sklearn\\utils\\deprecation.py:58: DeprecationWarning: Class Imputer is deprecated; Imputer was deprecated in version 0.20 and will be removed in 0.22. Import impute.SimpleImputer from sklearn instead.\n",
      "  warnings.warn(msg, category=DeprecationWarning)\n"
     ]
    }
   ],
   "source": [
    "## How to impute missing class labels in Python \n",
    "def imputr_missing_class_labels():\n",
    "    print()\n",
    "    print(format('How to impute missing class labels in Python', '*^82'))\n",
    "    import warnings\n",
    "    warnings.filterwarnings(\"ignore\")\n",
    "\n",
    "    # Load libraries\n",
    "    import numpy as np\n",
    "    from sklearn.preprocessing import Imputer\n",
    "\n",
    "    # Create Feature Matrix With Missing Values\n",
    "    X = np.array([[2,       2.10, 1.45],\n",
    "                  [1,       1.18, 1.33],\n",
    "                  [2,       1.22, 1.27],\n",
    "                  [0,       -0.21, -1.19],\n",
    "                  [np.nan,  0.87, 1.31],\n",
    "                  [np.nan, -0.67, -0.22]])\n",
    "\n",
    "    # Create Imputer object\n",
    "    imputer = Imputer(strategy='most_frequent', axis=0)\n",
    "\n",
    "    # Fill missing values with most frequent class\n",
    "    print(); print(X)\n",
    "    print(); print(imputer.fit_transform(X))\n",
    "\n",
    "imputr_missing_class_labels()"
   ]
  },
  {
   "cell_type": "code",
   "execution_count": null,
   "metadata": {},
   "outputs": [],
   "source": []
  }
 ],
 "metadata": {
  "kernelspec": {
   "display_name": "Python 3",
   "language": "python",
   "name": "python3"
  },
  "language_info": {
   "codemirror_mode": {
    "name": "ipython",
    "version": 3
   },
   "file_extension": ".py",
   "mimetype": "text/x-python",
   "name": "python",
   "nbconvert_exporter": "python",
   "pygments_lexer": "ipython3",
   "version": "3.7.3"
  }
 },
 "nbformat": 4,
 "nbformat_minor": 2
}
