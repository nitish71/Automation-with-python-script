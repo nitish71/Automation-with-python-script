{
 "cells": [
  {
   "cell_type": "code",
   "execution_count": 1,
   "metadata": {},
   "outputs": [
    {
     "name": "stdout",
     "output_type": "stream",
     "text": [
      "\n",
      "****************How to impute missing values with means in Python*****************\n",
      "\n",
      "       V0      V1\n",
      "0  0.3051     NaN\n",
      "1  0.4949     NaN\n",
      "2  0.6974  0.2615\n",
      "3  0.3769  0.5846\n",
      "4  0.2231  0.4615\n",
      "5  0.3410  0.8308\n",
      "6  0.4436  0.4962\n",
      "7  0.5897     NaN\n",
      "8  0.6308  0.5346\n",
      "9  0.5000  0.6731\n",
      "\n",
      "[[0.3051 0.5489]\n",
      " [0.4949 0.5489]\n",
      " [0.6974 0.2615]\n",
      " [0.3769 0.5846]\n",
      " [0.2231 0.4615]\n",
      " [0.341  0.8308]\n",
      " [0.4436 0.4962]\n",
      " [0.5897 0.5489]\n",
      " [0.6308 0.5346]\n",
      " [0.5    0.6731]]\n"
     ]
    },
    {
     "name": "stderr",
     "output_type": "stream",
     "text": [
      "C:\\Users\\DELL\\anaconda\\lib\\site-packages\\sklearn\\utils\\deprecation.py:58: DeprecationWarning: Class Imputer is deprecated; Imputer was deprecated in version 0.20 and will be removed in 0.22. Import impute.SimpleImputer from sklearn instead.\n",
      "  warnings.warn(msg, category=DeprecationWarning)\n"
     ]
    }
   ],
   "source": [
    "## How to impute missing values with means in Python \n",
    "def imput_missing_value_with_means():\n",
    "    print()\n",
    "    print(format('How to impute missing values with means in Python', '*^82'))\n",
    "\n",
    "    import warnings\n",
    "    warnings.filterwarnings(\"ignore\")\n",
    "\n",
    "    # load libraries\n",
    "    import pandas as pd\n",
    "    import numpy as np\n",
    "    from sklearn.preprocessing import Imputer\n",
    "\n",
    "    # Create an empty dataset\n",
    "    df = pd.DataFrame()\n",
    "\n",
    "    # Create two variables called x0 and x1. Make the first value of x1 a missing value\n",
    "    df['V0'] = [0.3051,0.4949,0.6974,0.3769,0.2231,\n",
    "                0.341,0.4436,0.5897,0.6308,0.5]\n",
    "    df['V1'] = [np.nan,np.nan,0.2615,0.5846,0.4615,\n",
    "                0.8308,0.4962,np.nan,0.5346,0.6731]\n",
    "\n",
    "    # View the dataset\n",
    "    print(); print(df)\n",
    "\n",
    "    # Create an imputer object that looks for 'Nan' values, \n",
    "    # then replaces them with the mean value of the feature by columns (axis=0)\n",
    "    mean_imputer = Imputer(missing_values='NaN', strategy='mean', axis=0)\n",
    "\n",
    "    # Train the imputor on the df dataset\n",
    "    mean_imputer = mean_imputer.fit(df)\n",
    "\n",
    "    # Apply the imputer to the df dataset\n",
    "    imputed_df = mean_imputer.transform(df.values)\n",
    "\n",
    "    # View the data\n",
    "    print(); print(imputed_df)\n",
    "\n",
    "imput_missing_value_with_means()"
   ]
  },
  {
   "cell_type": "code",
   "execution_count": null,
   "metadata": {},
   "outputs": [],
   "source": []
  }
 ],
 "metadata": {
  "kernelspec": {
   "display_name": "Python 3",
   "language": "python",
   "name": "python3"
  },
  "language_info": {
   "codemirror_mode": {
    "name": "ipython",
    "version": 3
   },
   "file_extension": ".py",
   "mimetype": "text/x-python",
   "name": "python",
   "nbconvert_exporter": "python",
   "pygments_lexer": "ipython3",
   "version": "3.7.3"
  }
 },
 "nbformat": 4,
 "nbformat_minor": 2
}
