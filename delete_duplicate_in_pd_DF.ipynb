{
 "cells": [
  {
   "cell_type": "code",
   "execution_count": 1,
   "metadata": {},
   "outputs": [
    {
     "name": "stdout",
     "output_type": "stream",
     "text": [
      "\n",
      "*****************How to delete duplicates from a Pandas DataFrame*****************\n",
      "\n",
      "  first_name last_name      age  preTestScore  postTestScore\n",
      "0      Jason    Miller       42             4             25\n",
      "1      Jason    Miller       42             4             25\n",
      "2      Jason    Miller  1111111             4             25\n",
      "3       Tina       Ali       36            31             57\n",
      "4       Jake    Milner       24             2             62\n",
      "5        Amy     Cooze       73             3             70\n",
      "\n",
      "0    False\n",
      "1     True\n",
      "2    False\n",
      "3    False\n",
      "4    False\n",
      "5    False\n",
      "dtype: bool\n",
      "\n",
      "  first_name last_name      age  preTestScore  postTestScore\n",
      "0      Jason    Miller       42             4             25\n",
      "2      Jason    Miller  1111111             4             25\n",
      "3       Tina       Ali       36            31             57\n",
      "4       Jake    Milner       24             2             62\n",
      "5        Amy     Cooze       73             3             70\n",
      "\n",
      "  first_name last_name      age  preTestScore  postTestScore\n",
      "2      Jason    Miller  1111111             4             25\n",
      "3       Tina       Ali       36            31             57\n",
      "4       Jake    Milner       24             2             62\n",
      "5        Amy     Cooze       73             3             70\n"
     ]
    }
   ],
   "source": [
    "## How to delete duplicates from a Pandas DataFrame\n",
    "def delete_duplicate():\n",
    "    print()\n",
    "    print(format('How to delete duplicates from a Pandas DataFrame','*^82'))\n",
    "\n",
    "    import warnings\n",
    "    warnings.filterwarnings(\"ignore\")\n",
    "\n",
    "    # load libraries\n",
    "    import pandas as pd\n",
    "\n",
    "    # Create dataframe with duplicates\n",
    "    raw_data = {'first_name': ['Jason', 'Jason', 'Jason','Tina', 'Jake', 'Amy'],\n",
    "                'last_name': ['Miller', 'Miller', 'Miller','Ali', 'Milner', 'Cooze'],\n",
    "                'age': [42, 42, 1111111, 36, 24, 73],\n",
    "                'preTestScore': [4, 4, 4, 31, 2, 3],\n",
    "                'postTestScore': [25, 25, 25, 57, 62, 70]}\n",
    "\n",
    "    df = pd.DataFrame(raw_data, columns = ['first_name', 'last_name', 'age',\n",
    "                                           'preTestScore', 'postTestScore'])\n",
    "    print(); print(df)\n",
    "\n",
    "    # Identify which observations are duplicates\n",
    "    print(); print(df.duplicated())\n",
    "    print(); print(df.drop_duplicates(keep='first'))\n",
    "\n",
    "    # Drop duplicates in the first name column, but take the last obs in the duplicated set\n",
    "    print(); print(df.drop_duplicates(['first_name'], keep='last'))\n",
    "\n",
    "delete_duplicate()"
   ]
  },
  {
   "cell_type": "code",
   "execution_count": null,
   "metadata": {},
   "outputs": [],
   "source": []
  }
 ],
 "metadata": {
  "kernelspec": {
   "display_name": "Python 3",
   "language": "python",
   "name": "python3"
  },
  "language_info": {
   "codemirror_mode": {
    "name": "ipython",
    "version": 3
   },
   "file_extension": ".py",
   "mimetype": "text/x-python",
   "name": "python",
   "nbconvert_exporter": "python",
   "pygments_lexer": "ipython3",
   "version": "3.7.3"
  }
 },
 "nbformat": 4,
 "nbformat_minor": 2
}
