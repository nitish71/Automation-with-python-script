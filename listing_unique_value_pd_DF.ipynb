{
 "cells": [
  {
   "cell_type": "code",
   "execution_count": 1,
   "metadata": {},
   "outputs": [
    {
     "name": "stdout",
     "output_type": "stream",
     "text": [
      "\n",
      "*****************How to list unique values in a Pandas DataFrame******************\n",
      "\n",
      "             name  year  reports\n",
      "Cochice     Jason  2012        4\n",
      "Pima        Molly  2012       24\n",
      "Santa Cruz   Tina  2013       31\n",
      "Maricopa     Tina  2014        2\n",
      "Yuma          Amy  2014        3\n",
      "\n",
      "['Jason' 'Molly' 'Tina' 'Amy']\n"
     ]
    }
   ],
   "source": [
    "## How to list unique values in a Pandas DataFrame\n",
    "def listing_unique_value():\n",
    "    print()\n",
    "    print(format('How to list unique values in a Pandas DataFrame','*^82'))\n",
    "\n",
    "    import warnings\n",
    "    warnings.filterwarnings(\"ignore\")\n",
    "\n",
    "    # load libraries\n",
    "    import pandas as pd\n",
    "\n",
    "    # Set ipython's max row display\n",
    "    pd.set_option('display.max_row', 1000)\n",
    "\n",
    "    # Set iPython's max column width to 50\n",
    "    pd.set_option('display.max_columns', 50)\n",
    "\n",
    "    # Create an example dataframe\n",
    "    data = {'name': ['Jason', 'Molly', 'Tina', 'Tina', 'Amy'],\n",
    "            'year': [2012, 2012, 2013, 2014, 2014],\n",
    "            'reports': [4, 24, 31, 2, 3]}\n",
    "    df = pd.DataFrame(data, index = ['Cochice', 'Pima', 'Santa Cruz',\n",
    "                                     'Maricopa', 'Yuma'])\n",
    "    print(); print(df)\n",
    "\n",
    "    # List unique values in the df['name'] column\n",
    "    print(); print(df.name.unique())\n",
    "\n",
    "listing_unique_value()"
   ]
  },
  {
   "cell_type": "code",
   "execution_count": null,
   "metadata": {},
   "outputs": [],
   "source": []
  }
 ],
 "metadata": {
  "kernelspec": {
   "display_name": "Python 3",
   "language": "python",
   "name": "python3"
  },
  "language_info": {
   "codemirror_mode": {
    "name": "ipython",
    "version": 3
   },
   "file_extension": ".py",
   "mimetype": "text/x-python",
   "name": "python",
   "nbconvert_exporter": "python",
   "pygments_lexer": "ipython3",
   "version": "3.7.3"
  }
 },
 "nbformat": 4,
 "nbformat_minor": 2
}
